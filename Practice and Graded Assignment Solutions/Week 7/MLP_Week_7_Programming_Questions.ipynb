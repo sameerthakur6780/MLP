{
  "nbformat": 4,
  "nbformat_minor": 0,
  "metadata": {
    "colab": {
      "name": "MLP Week 7 Programming Questions",
      "provenance": [],
      "collapsed_sections": [],
      "toc_visible": true
    },
    "kernelspec": {
      "name": "python3",
      "display_name": "Python 3"
    },
    "language_info": {
      "name": "python"
    }
  },
  "cells": [
    {
      "cell_type": "code",
      "source": [
        "import pandas as pd\n",
        "import numpy as np"
      ],
      "metadata": {
        "id": "6wXkPdCUjmKq"
      },
      "execution_count": null,
      "outputs": []
    },
    {
      "cell_type": "markdown",
      "source": [
        "# **Practice Questions**\n",
        "\n",
        "Question Group Name: 22T1_MLP_W7_PP\n",
        "\n",
        "Total No. of Ques: 6# "
      ],
      "metadata": {
        "id": "4OR2ACrUqcAw"
      }
    },
    {
      "cell_type": "markdown",
      "source": [
        "### Common Data for Q1,Q2,Q3"
      ],
      "metadata": {
        "id": "J2WOQKc_VRzu"
      }
    },
    {
      "cell_type": "code",
      "source": [
        "\n",
        "# (Common data for 1,2,3)\n",
        "text_data=['A metaverse is a network of 3D virtual worlds focused on social connection.',\n",
        "           'In futurism and science fiction, the term is often described as a hypothetical iteration of the Internet as a single', \n",
        "           'universal virtual world that is facilitated by the use of virtual and augmented reality headsets.',\n",
        "           'The term \"metaverse\" has its origins  the 1992 science fiction novel Snow Crash as a portmanteau of \"meta\" and \"universe.\"',\n",
        "           'Various metaverses have been developed for popular use such as virtual world platforms like Second Life.',\n",
        "           'Some metaverse iterations involve integration between virtual and physical spaces and virtual economies',\n",
        "           'often including a significant interest in advancing virtual reality technology.', \n",
        "           'The term has seen considerable use as a buzzword for public relations purposes to exaggerate development progress for various related technologies and projects.[10] Information privacy and user addiction are concerns within metaverses',\n",
        "           'stemming from challenges facing the social media and video game industries as a whole.']"
      ],
      "metadata": {
        "id": "gq0C2wkuIPj3"
      },
      "execution_count": null,
      "outputs": []
    },
    {
      "cell_type": "markdown",
      "source": [
        "### **Que 1.**\n",
        "\n",
        "\n",
        "[1 point]  Vectorize the given text data using  countvectorizer() object. What is the shape of text_data after vectorization?\n",
        "\n",
        "Options: <br>\n",
        "1. (9,99) <br>\n",
        "2. (99,9) <br>\n",
        "3. (1,99) <br>\n",
        "4. (9,20) <br>\n",
        "5. None of them\n",
        "\n",
        "**Ans: (9,99)**\n",
        "\n"
      ],
      "metadata": {
        "id": "X8jixSpVrnTg"
      }
    },
    {
      "cell_type": "markdown",
      "source": [
        "**Solution**"
      ],
      "metadata": {
        "id": "O9823E0KMTDd"
      }
    },
    {
      "cell_type": "code",
      "source": [
        "from sklearn.feature_extraction.text import CountVectorizer\n",
        "c_vectorizer = CountVectorizer()\n",
        "X_c = c_vectorizer.fit_transform(text_data)\n",
        "X_c.shape"
      ],
      "metadata": {
        "colab": {
          "base_uri": "https://localhost:8080/"
        },
        "id": "6LFjhZNTKPp3",
        "outputId": "25a60bb0-b049-4ef7-bfe6-ab64ca81a966"
      },
      "execution_count": null,
      "outputs": [
        {
          "output_type": "execute_result",
          "data": {
            "text/plain": [
              "(9, 99)"
            ]
          },
          "metadata": {},
          "execution_count": 2
        }
      ]
    },
    {
      "cell_type": "markdown",
      "source": [
        "### **Que 2.**\n",
        "\n",
        "[1 point] What is the shape of text_data after vectorization after the  term that appeared in less than 2 documents are ignored?\n",
        "\n",
        "\n",
        "Options: <br>\n",
        "1. (9,99) <br>\n",
        "2. (99,9) <br>\n",
        "3. (9,20) <br>\n",
        "4. (20,9) <br>\n",
        "5. None of them\n",
        "\n",
        "Ans: (9,20)"
      ],
      "metadata": {
        "id": "4pSBs7K6ugCw"
      }
    },
    {
      "cell_type": "markdown",
      "source": [
        "**Solution**"
      ],
      "metadata": {
        "id": "wr04S91Qxr7r"
      }
    },
    {
      "cell_type": "code",
      "source": [
        "new_cv = CountVectorizer(min_df=2)\n",
        "count_vector=new_cv.fit_transform(text_data)\n",
        "count_vector.shape"
      ],
      "metadata": {
        "colab": {
          "base_uri": "https://localhost:8080/"
        },
        "id": "Ztgjb6eWv-gt",
        "outputId": "9dc401ac-84d8-4d41-d413-669801dc589e"
      },
      "execution_count": null,
      "outputs": [
        {
          "output_type": "execute_result",
          "data": {
            "text/plain": [
              "(9, 20)"
            ]
          },
          "metadata": {},
          "execution_count": 3
        }
      ]
    },
    {
      "cell_type": "markdown",
      "source": [
        "### **Que 3**\n",
        "\n",
        "[1 point] What is the token associated with word \"metaverse\"?\n",
        "\n",
        "\n",
        "Options: <br>\n",
        "1. 50 <br>\n",
        "2. 51 <br>\n",
        "3. 52 <br>\n",
        "4. 53 <br>\n",
        "5. None of them\n",
        "\n",
        "Ans: 51"
      ],
      "metadata": {
        "id": "fD5NPNWLx5ha"
      }
    },
    {
      "cell_type": "markdown",
      "source": [
        "**Solution**"
      ],
      "metadata": {
        "id": "kRd2NDsKzlNa"
      }
    },
    {
      "cell_type": "code",
      "source": [
        "c_vectorizer.vocabulary_['metaverse']"
      ],
      "metadata": {
        "colab": {
          "base_uri": "https://localhost:8080/"
        },
        "id": "hqbNirPiMP76",
        "outputId": "2b11f575-c680-428e-af76-cdcd80c6c82e"
      },
      "execution_count": null,
      "outputs": [
        {
          "output_type": "execute_result",
          "data": {
            "text/plain": [
              "51"
            ]
          },
          "metadata": {},
          "execution_count": 12
        }
      ]
    },
    {
      "cell_type": "markdown",
      "source": [
        "### **Que 4.**\n",
        "\n",
        " Docs = ['This is the first question.',\n",
        "           'This document is the second document.', 'And this is the third one'\n",
        "            ]\n",
        "\n",
        "Write a code to convert the above text into an array after tokenizing it using countvectorizer with 10  features. What will be the output?\n",
        " \n",
        "\n",
        "Options: <br>\n",
        "1. \n",
        "       [[0, 0, 1, 1, 0, 1, 0, 1, 0, 1],\n",
        "       [0, 2, 0, 1, 0, 0, 1, 1, 0, 1],\n",
        "       [1, 0, 0, 1, 1, 0, 0, 1, 1, 1]]\n",
        "\n",
        "2. \n",
        "      \n",
        "       [[0, 1, 1, 1, 0, 1, 0, 1, 0, 1],\n",
        "       [0, 2, 0, 1, 0, 0, 1, 1, 0, 1],\n",
        "       [1, 0, 0, 1, 1, 1, 0, 1, 1, 1]]\n",
        "3. \n",
        "      \n",
        "       [[0, 0, 1, 1, 0, 1, 0, 1, 2, 1],\n",
        "       [0, 2, 0, 1, 0, 0, 1, 1, 1, 1],\n",
        "       [1, 0, 0, 1, 1, 0, 0, 1, 1, 1]]\n",
        "4. \n",
        "      \n",
        "       [[0, 0, 2, 1, 0, 1, 0, 1, 0, 1],\n",
        "       [0, 2, 0, 1, 0, 0, 1, 1, 1, 1],\n",
        "       [1, 0, 0, 1, 1, 0, 0, 1, 1, 1]]\n",
        "\n",
        "\n",
        "Ans: Option 1\n",
        "\n"
      ],
      "metadata": {
        "id": "aKsgodmc6Nm7"
      }
    },
    {
      "cell_type": "markdown",
      "source": [
        "**Solution**"
      ],
      "metadata": {
        "id": "y44jwKnNBMP2"
      }
    },
    {
      "cell_type": "code",
      "source": [
        "def array_maker(input):\n",
        "    vectorizer = CountVectorizer()\n",
        "    X = vectorizer.fit_transform(input)\n",
        "    return(X.toarray())\n",
        "Docs = ['This is the first question.', 'This document is the second document.', 'And this is the third one',] \n",
        "array_maker(Docs)"
      ],
      "metadata": {
        "colab": {
          "base_uri": "https://localhost:8080/"
        },
        "id": "ldAJbi1z7BVP",
        "outputId": "3e755e6e-532c-47e4-ab2b-dadec01d1140"
      },
      "execution_count": null,
      "outputs": [
        {
          "output_type": "execute_result",
          "data": {
            "text/plain": [
              "array([[0, 0, 1, 1, 0, 1, 0, 1, 0, 1],\n",
              "       [0, 2, 0, 1, 0, 0, 1, 1, 0, 1],\n",
              "       [1, 0, 0, 1, 1, 0, 0, 1, 1, 1]])"
            ]
          },
          "metadata": {},
          "execution_count": 5
        }
      ]
    },
    {
      "cell_type": "markdown",
      "source": [
        "### **Que 5.**\n",
        " Define a function called *k_closest* in python with the following signature:\n",
        "\n",
        "```\n",
        "def k_closest( X: \"set of vectors as np.ndarray\", p: \"test vector as np.array\", k:\"integer. Default 1\") -> np.ndarray \n",
        "```\n",
        "Which returns  closest vectors in X which are closest to the vector p.\n",
        "Use the appropriate sklearn methods.\n",
        "\n",
        "Consider, \n",
        "``\n",
        "X = np.asarray([[72, 69 ,82],\n",
        " [ 9 ,79, 99],\n",
        " [20 ,47, 88],\n",
        " [80 ,64, 49]])\n",
        "p= np.asarray([[0,0,0]])\n",
        "and k=1\n",
        "``\n",
        "For these values, what is the output of the function?\n",
        "\n",
        "Options: <br>\n",
        "\n",
        "1. array([[20, 47, 82]])\n",
        "\n",
        "2. array([[80 ,64, 49]])\n",
        "\n",
        "3. array([[9 ,79, 99]])\n",
        "\n",
        "4. array([[20 ,47, 88]])\n",
        "\n",
        "Ans: Option 4\n",
        "\n",
        "\n",
        "\n"
      ],
      "metadata": {
        "id": "woLB2ulXyDNP"
      }
    },
    {
      "cell_type": "markdown",
      "source": [
        "**Solution**"
      ],
      "metadata": {
        "id": "5kVb_YEvl7eH"
      }
    },
    {
      "cell_type": "code",
      "source": [
        "import numpy as np\n",
        "from sklearn.neighbors import NearestNeighbors\n",
        "np.random.seed(0)\n",
        "\n",
        "\n",
        "\n",
        "def k_closest( X:np.ndarray, p:np.array, k:int = 1):\n",
        "\n",
        "  Xclosest = NearestNeighbors().fit(X)\n",
        "\n",
        "  indices = Xclosest.kneighbors(p, k, return_distance=False)\n",
        "\n",
        "  return X[indices[0]]"
      ],
      "metadata": {
        "id": "QM2TUps6zavI"
      },
      "execution_count": null,
      "outputs": []
    },
    {
      "cell_type": "code",
      "source": [
        "X = np.asarray([[72, 69 ,82],\n",
        " [ 9 ,79, 99],\n",
        " [20 ,47, 88],\n",
        " [80 ,64, 49]])\n",
        "p= np.asarray([[0,0,0]])\n",
        "k=1 \n",
        "k_closest(X,p,k=1)"
      ],
      "metadata": {
        "colab": {
          "base_uri": "https://localhost:8080/"
        },
        "id": "t9dl8LcL0CRT",
        "outputId": "acbdf0b9-2403-4e31-ad4f-d7199f1ebd00"
      },
      "execution_count": null,
      "outputs": [
        {
          "output_type": "execute_result",
          "data": {
            "text/plain": [
              "array([[20, 47, 88]])"
            ]
          },
          "metadata": {},
          "execution_count": 7
        }
      ]
    },
    {
      "cell_type": "markdown",
      "source": [
        "### **Que 6.**\n",
        " Define a function called *distance* in python with the following signature:\n",
        "\n",
        "```\n",
        "def distance( x0 : \"A vector as np.array\", X: \"A list of vectors as np.ndarray\", p : \"p value for Minkowsky distance. Default 2, for Eucledian\"): \n",
        "```\n",
        "which returns a list of calculated Minkowsky distances between the point x0 and all points in X. Recall that the p-Minkowsky distance between $\\mathbf {x} = (x_1, x_2, \\ldots x_n)^T$ and $\\mathbf {y} = (y_1, y_2, \\ldots y_n)^T$ is \n",
        "\n",
        "\n",
        "$$\\delta(\\mathbf x,\\mathbf y) = \\left( |x_1 - y_1|^p+ |x_2 - y_2|^p + \\cdots + |x_n - y_n|^p \\right )^{\\frac{1}{p}}$$\n",
        "\n",
        "Do not use any predefined function to calculate the same.\n",
        "\n",
        "Consider,\n",
        "X0 = np.array([1,0,0,0]),\n",
        "X= np.asarray([[1, 0, 0,0], [0, 1, 1,1],[1,2,0,0]]),\n",
        "p= 2\n",
        "then,  what is the output of the function distance(X0,X,p) ?\n",
        "\n",
        "Options: <br>\n",
        "\n",
        "1. [0, 1, 0,1]\n",
        "\n",
        "2. [1, 0, 0,0]\n",
        "\n",
        "3. [0, 2, 2]\n",
        "\n",
        "4. [0, 2, 1]\n",
        "\n",
        "Ans: [0, 2, 2]\n",
        "\n",
        "\n",
        "\n"
      ],
      "metadata": {
        "id": "ZGnlVim8cC8W"
      }
    },
    {
      "cell_type": "markdown",
      "source": [
        "**Solution**"
      ],
      "metadata": {
        "id": "3L3YySaSmAwl"
      }
    },
    {
      "cell_type": "code",
      "source": [
        "def distance( x0 :  np.array, X:np.ndarray, p:int = 2) -> list:\n",
        "  \n",
        "  if (X.shape[1] == 1) and (np.asarray(x0).size == 1) :  #if x0 is scalar and X is an array of scalars\n",
        "      pass\n",
        "  else:  assert x0.shape[0] == X.shape[1], \"Input vectors must have identical dimension\"\n",
        "\n",
        "  assert p>0, \"p must be positive integer\"\n",
        "\n",
        "  dist = lambda y : np.power(  np.sum(  np.power(  np.abs(x0-y)  ,p)  )  , 1/p  )\n",
        "\n",
        "  return [dist(y) for y in X]"
      ],
      "metadata": {
        "id": "6oQDgITicsDN"
      },
      "execution_count": null,
      "outputs": []
    },
    {
      "cell_type": "code",
      "source": [
        "X0 = np.array([1, 0, 0, 0])\n",
        "X= np.asarray([[1, 0, 0, 0], \n",
        "               [0, 1, 1, 1],\n",
        "               [1, 2, 0, 0]])\n",
        "distance(X0, X, p=2)"
      ],
      "metadata": {
        "colab": {
          "base_uri": "https://localhost:8080/"
        },
        "id": "egnHrDbTczUT",
        "outputId": "8de6add0-dfc0-4245-cfa6-0c6f1c17b83f"
      },
      "execution_count": null,
      "outputs": [
        {
          "output_type": "execute_result",
          "data": {
            "text/plain": [
              "[0.0, 2.0, 2.0]"
            ]
          },
          "metadata": {},
          "execution_count": 9
        }
      ]
    },
    {
      "cell_type": "code",
      "source": [
        "# Using scipy\n",
        "from scipy.spatial import minkowski_distance\n",
        "\n",
        "dist = minkowski_distance(X0, X,2)\n",
        "print(dist)\n"
      ],
      "metadata": {
        "colab": {
          "base_uri": "https://localhost:8080/"
        },
        "id": "7eVPCFZ_fBJY",
        "outputId": "4473de80-fb7c-4bfd-cf36-b51678bdb979"
      },
      "execution_count": null,
      "outputs": [
        {
          "output_type": "stream",
          "name": "stdout",
          "text": [
            "[0. 2. 2.]\n"
          ]
        }
      ]
    },
    {
      "cell_type": "markdown",
      "source": [
        ""
      ],
      "metadata": {
        "id": "1LzG9YmA9CZl"
      }
    },
    {
      "cell_type": "markdown",
      "source": [
        "# **(Common data for Q7 to 11 Practice)**\n",
        "Load digit dataset on Colab (datasets.load_digits()) and use softmax regression to build the model Using following steps.\n",
        "\n",
        "**Step 1:**\n",
        "Load the  dataset and split it using train_test_split by keeping:\n",
        "     test_size= 0.2\n",
        "     random_state=10\n",
        "\n",
        "**Step 2:** Use standard scaler as a scaling function to scale the training as well as test data.\n",
        "\n",
        "**Step 3:** Use Logisticregression() as an estimator and set parameter (multi_class='multinomial', solver='sag') to predict the output.\n",
        "\n"
      ],
      "metadata": {
        "id": "m1ftDz-h3rcy"
      }
    },
    {
      "cell_type": "markdown",
      "source": [
        "### **Que 7** \n",
        "\n",
        "[1 point]  What is the shape of features data you got in digits dataset ?\n",
        "\n",
        "Options: <br>\n",
        "1. (1797,64) <br>\n",
        "2. (1797,65) <br>\n",
        "3. (360,64) <br>\n",
        "4. (1437,64) <br>\n",
        "\n",
        "\n",
        "Ans: (1797,64)\n",
        "\n"
      ],
      "metadata": {
        "id": "tL3h0gKf4290"
      }
    },
    {
      "cell_type": "markdown",
      "source": [
        "**Solution**"
      ],
      "metadata": {
        "id": "yzqHajKa867g"
      }
    },
    {
      "cell_type": "code",
      "source": [
        "digits_df = datasets.load_digits()\n",
        "X = digits_df.data\n",
        "y = digits_df.target\n",
        "X.shape"
      ],
      "metadata": {
        "colab": {
          "base_uri": "https://localhost:8080/"
        },
        "id": "Em4HBkfnw6qX",
        "outputId": "a47a4bea-7a78-4b4e-cf04-ede3f3275bce"
      },
      "execution_count": null,
      "outputs": [
        {
          "output_type": "execute_result",
          "data": {
            "text/plain": [
              "(1797, 64)"
            ]
          },
          "metadata": {},
          "execution_count": 73
        }
      ]
    },
    {
      "cell_type": "markdown",
      "source": [
        "### **Que 8** \n",
        "\n",
        "[1 point] How many labels are there in the dataset?\n",
        "\n",
        "Options: <br>\n",
        "1. 2 <br>\n",
        "2. 3 <br>\n",
        "3.9 <br>\n",
        "4. 10 <br>\n",
        "\n",
        "\n",
        "Ans: 10\n",
        "\n"
      ],
      "metadata": {
        "id": "zJCNPofi5jNU"
      }
    },
    {
      "cell_type": "markdown",
      "source": [
        "**Solution**"
      ],
      "metadata": {
        "id": "eAy6udow88cA"
      }
    },
    {
      "cell_type": "code",
      "source": [
        "unique, counts=np.unique(y, return_counts=True)\n",
        "unique"
      ],
      "metadata": {
        "colab": {
          "base_uri": "https://localhost:8080/"
        },
        "id": "qaso649X575X",
        "outputId": "265c246f-7aa0-4e1d-f878-b1b57a904d68"
      },
      "execution_count": null,
      "outputs": [
        {
          "output_type": "execute_result",
          "data": {
            "text/plain": [
              "array([0, 1, 2, 3, 4, 5, 6, 7, 8, 9])"
            ]
          },
          "metadata": {},
          "execution_count": 79
        }
      ]
    },
    {
      "cell_type": "markdown",
      "source": [
        "### **Que 9** \n",
        "\n",
        "[1 point] How many times label '7' is there in the dataset?\n",
        "\n",
        "Options: <br>\n",
        "1. 179 <br>\n",
        "2. 181 <br>\n",
        "3.174 <br>\n",
        "4. 180 <br>\n",
        "\n",
        "\n",
        "Ans: 179\n",
        "\n"
      ],
      "metadata": {
        "id": "Kyeysy2S62lh"
      }
    },
    {
      "cell_type": "markdown",
      "source": [
        "**Solution**"
      ],
      "metadata": {
        "id": "8w0NtBAW89TW"
      }
    },
    {
      "cell_type": "code",
      "source": [
        "result = np.column_stack((unique, counts)) \n",
        "print (result)"
      ],
      "metadata": {
        "colab": {
          "base_uri": "https://localhost:8080/"
        },
        "id": "WxPU0T-R6rGa",
        "outputId": "9fc67bf8-9b6d-4694-cf92-4a3f1ac5342c"
      },
      "execution_count": null,
      "outputs": [
        {
          "output_type": "stream",
          "name": "stdout",
          "text": [
            "[[  0 178]\n",
            " [  1 182]\n",
            " [  2 177]\n",
            " [  3 183]\n",
            " [  4 181]\n",
            " [  5 182]\n",
            " [  6 181]\n",
            " [  7 179]\n",
            " [  8 174]\n",
            " [  9 180]]\n"
          ]
        }
      ]
    },
    {
      "cell_type": "markdown",
      "source": [
        "### **Que 10**\n",
        "\n",
        "[1 point] What is the accuracy of the trained model on test data?\n",
        "\n",
        "Options: <br>\n",
        "1.  0.9694<br>\n",
        "2. 0.912 <br>\n",
        "3. 0.99 <br>\n",
        "4. 1.0  <br>\n",
        "\n",
        "**Ans:** 0.9694\n",
        "\n"
      ],
      "metadata": {
        "id": "UzSfLkt_7k5X"
      }
    },
    {
      "cell_type": "markdown",
      "source": [
        "### **Que 11**\n",
        "\n",
        "[1 point] Write  the f1_score value you got .(Keep parameter average='weighted') [NAT]\n",
        "\n",
        "\n",
        "**Ans:** 0.9697\n",
        "\n",
        "Range: 0.95-0.98\n"
      ],
      "metadata": {
        "id": "amxmpAWP7_w7"
      }
    },
    {
      "cell_type": "markdown",
      "source": [
        "**Solution for Q10,Q11**"
      ],
      "metadata": {
        "id": "GDQ41LPo9AmW"
      }
    },
    {
      "cell_type": "code",
      "source": [
        "\n",
        "##Train test split\n",
        "from sklearn.model_selection import train_test_split\n",
        "from sklearn.linear_model import LogisticRegression\n",
        "X_train, X_test, y_train, y_test = train_test_split(X, y, train_size=0.8, random_state=10)\n",
        "\n",
        "X_train.shape, X_test.shape, y_train.shape, y_test.shape\n",
        "print('X_train dimension= ', X_train.shape)\n",
        "print('X_test dimension= ', X_test.shape)\n",
        "print('y_train dimension= ', y_train.shape)\n",
        "print('y_train dimension= ', y_test.shape)"
      ],
      "metadata": {
        "colab": {
          "base_uri": "https://localhost:8080/"
        },
        "id": "l7-iOka9xaDd",
        "outputId": "157d57f9-ce65-4b15-ecc7-4915496898fe"
      },
      "execution_count": null,
      "outputs": [
        {
          "output_type": "stream",
          "name": "stdout",
          "text": [
            "X_train dimension=  (1437, 64)\n",
            "X_test dimension=  (360, 64)\n",
            "y_train dimension=  (1437,)\n",
            "y_train dimension=  (360,)\n"
          ]
        }
      ]
    },
    {
      "cell_type": "code",
      "source": [
        "from sklearn.preprocessing import StandardScaler\n",
        "from sklearn.pipeline import Pipeline\n",
        "pipe=Pipeline(steps=[(\"scaler\",StandardScaler()),(\"logreg\",LogisticRegression(multi_class='multinomial', solver='sag'))])\n",
        "pipe.fit(X_train,y_train)"
      ],
      "metadata": {
        "colab": {
          "base_uri": "https://localhost:8080/"
        },
        "id": "V6IwvCRexhFG",
        "outputId": "839acb72-5bab-4945-a35d-217d6ea7ba36"
      },
      "execution_count": null,
      "outputs": [
        {
          "output_type": "stream",
          "name": "stderr",
          "text": [
            "/usr/local/lib/python3.7/dist-packages/sklearn/linear_model/_sag.py:354: ConvergenceWarning: The max_iter was reached which means the coef_ did not converge\n",
            "  ConvergenceWarning,\n"
          ]
        },
        {
          "output_type": "execute_result",
          "data": {
            "text/plain": [
              "Pipeline(steps=[('scaler', StandardScaler()),\n",
              "                ('logreg',\n",
              "                 LogisticRegression(multi_class='multinomial', solver='sag'))])"
            ]
          },
          "metadata": {},
          "execution_count": 62
        }
      ]
    },
    {
      "cell_type": "code",
      "source": [
        "print('Predicted value is =', pipe.predict([X_test[200]]))\n",
        "\n",
        "print('Actual value from test data is %s and corresponding image is as below' % (y_test[200]) )\n",
        "plt.matshow(digits_df.images[200]) \n",
        "plt.show() "
      ],
      "metadata": {
        "colab": {
          "base_uri": "https://localhost:8080/",
          "height": 310
        },
        "id": "QAqe_3Zc10My",
        "outputId": "1d1490b6-ddf5-40d2-dd15-462767010fe6"
      },
      "execution_count": null,
      "outputs": [
        {
          "output_type": "stream",
          "name": "stdout",
          "text": [
            "Predicted value is = [1]\n",
            "Actual value from test data is 1 and corresponding image is as below\n"
          ]
        },
        {
          "output_type": "display_data",
          "data": {
            "image/png": "[encoded data removed]",
            "text/plain": [
              "<Figure size 288x288 with 1 Axes>"
            ]
          },
          "metadata": {
            "needs_background": "light"
          }
        }
      ]
    },
    {
      "cell_type": "code",
      "source": [
        "from sklearn.metrics import classification_report\n",
        "print(classification_report(y_test, pipe.predict(X_test)))"
      ],
      "metadata": {
        "colab": {
          "base_uri": "https://localhost:8080/"
        },
        "id": "0jYrx-pC2ar7",
        "outputId": "65f14470-16bb-468a-856a-9a5276427a56"
      },
      "execution_count": null,
      "outputs": [
        {
          "output_type": "stream",
          "name": "stdout",
          "text": [
            "              precision    recall  f1-score   support\n",
            "\n",
            "           0       1.00      1.00      1.00        37\n",
            "           1       0.97      0.91      0.94        34\n",
            "           2       0.89      1.00      0.94        34\n",
            "           3       1.00      0.95      0.97        40\n",
            "           4       1.00      0.94      0.97        34\n",
            "           5       0.94      1.00      0.97        32\n",
            "           6       1.00      0.97      0.99        37\n",
            "           7       1.00      1.00      1.00        40\n",
            "           8       0.89      0.97      0.93        33\n",
            "           9       1.00      0.95      0.97        39\n",
            "\n",
            "    accuracy                           0.97       360\n",
            "   macro avg       0.97      0.97      0.97       360\n",
            "weighted avg       0.97      0.97      0.97       360\n",
            "\n"
          ]
        }
      ]
    },
    {
      "cell_type": "code",
      "source": [
        "y_pred=pipe.predict(X_test)"
      ],
      "metadata": {
        "id": "l3uU4mIE3L6e"
      },
      "execution_count": null,
      "outputs": []
    },
    {
      "cell_type": "code",
      "source": [
        "accuracy_score(y_test,y_pred)\n"
      ],
      "metadata": {
        "colab": {
          "base_uri": "https://localhost:8080/"
        },
        "id": "Micsztc-250G",
        "outputId": "4a8720e3-2df7-40b6-96f8-7ba9f651db22"
      },
      "execution_count": null,
      "outputs": [
        {
          "output_type": "execute_result",
          "data": {
            "text/plain": [
              "0.9694444444444444"
            ]
          },
          "metadata": {},
          "execution_count": 70
        }
      ]
    },
    {
      "cell_type": "code",
      "source": [
        "recall_score(y_test, y_pred, average='weighted')\n"
      ],
      "metadata": {
        "colab": {
          "base_uri": "https://localhost:8080/"
        },
        "id": "XkUEdK5C27Wt",
        "outputId": "ce566723-b182-4659-bc62-1c94222dd79f"
      },
      "execution_count": null,
      "outputs": [
        {
          "output_type": "execute_result",
          "data": {
            "text/plain": [
              "0.9694444444444444"
            ]
          },
          "metadata": {},
          "execution_count": 71
        }
      ]
    },
    {
      "cell_type": "code",
      "source": [
        "f1_score(y_test, y_pred, average='weighted')"
      ],
      "metadata": {
        "colab": {
          "base_uri": "https://localhost:8080/"
        },
        "id": "Wb_nKo87294K",
        "outputId": "5519427c-fa32-4373-8d30-cc09ca183eda"
      },
      "execution_count": null,
      "outputs": [
        {
          "output_type": "execute_result",
          "data": {
            "text/plain": [
              "0.9697233182569327"
            ]
          },
          "metadata": {},
          "execution_count": 72
        }
      ]
    },
    {
      "cell_type": "markdown",
      "source": [
        "# **Graded Questions**\n",
        "\n",
        "Question Group Name: 22T1_MLP_W7_PG\n",
        "\n",
        "Total No. of Ques: 11"
      ],
      "metadata": {
        "id": "CzRfIMOTFLy4"
      }
    },
    {
      "cell_type": "markdown",
      "source": [
        "##(Common data for Q1 to Q5 graded questions)\n",
        "\n",
        "**Step 1:** Download the dataset using following link:\n",
        "(https://drive.google.com/file/d/1v-uxWEgTI0GDCOTZOX3shUMkTf1a_CL7/view?usp=sharing) \n",
        "\n",
        "**Step 2:**  Import the data in google colab using pd.read_csv().\n",
        "\n",
        "**Step 3:** Seperate features and target data in seperate variable X and Y.\n",
        "\n",
        "**Step 4:** Convert dataframe  X and series y into  array and save it in variable X_array,y_array. \n",
        "\n",
        "**Step 5:** Split the dataset using train_test_split.\n",
        " (Keep parameter train_size=0.7 and random_state=10).\n",
        " \n",
        "**Step 6:** Reshape the dataset in such a way that  each entry of data has 90 samples.\n",
        "\n",
        "**Step 7:** Use SGD regressor as an estimator and partial_fit to fit the dataset on the model. (Set random_state=10)\n",
        "\n",
        "**Step 8:** Calculate different evaluation metrics value like mean_square_error, R2_score.\n",
        "\n",
        "Use the training set for fitting the  model and use the test data to make the predictions. \n",
        "\n",
        "**Note:** No need to scale the data. It's already scaled.\n",
        "\n",
        "Answer the below questions."
      ],
      "metadata": {
        "id": "RUen7gdDj-yP"
      }
    },
    {
      "cell_type": "code",
      "source": [
        "urls='https://drive.google.com/file/d/1v-uxWEgTI0GDCOTZOX3shUMkTf1a_CL7/view?usp=sharing'\n",
        "urls='https://drive.google.com/uc?id=' + urls.split('/')[-2]\n",
        "data = pd.read_csv(urls)"
      ],
      "metadata": {
        "id": "HQL2WHHjjchx"
      },
      "execution_count": null,
      "outputs": []
    },
    {
      "cell_type": "markdown",
      "source": [
        "### **Que 1**\n",
        "\n",
        "[1 point]  How many fetaures are there in the dataset?\n",
        "\n",
        "Options: <br>\n",
        "1. 10 <br>\n",
        "2. 11 <br>\n",
        "3. 90,000 <br>\n",
        "4. 9000 <br>\n",
        "\n",
        "Ans: 10\n",
        "\n"
      ],
      "metadata": {
        "id": "mtjz1ohBmNxE"
      }
    },
    {
      "cell_type": "code",
      "source": [
        "data.shape"
      ],
      "metadata": {
        "id": "Z7x5tV9TO4eY",
        "colab": {
          "base_uri": "https://localhost:8080/"
        },
        "outputId": "3edc3378-81dd-491f-f03f-b3c3e7f3d5e0"
      },
      "execution_count": null,
      "outputs": [
        {
          "output_type": "execute_result",
          "data": {
            "text/plain": [
              "(90000, 11)"
            ]
          },
          "metadata": {},
          "execution_count": 8
        }
      ]
    },
    {
      "cell_type": "markdown",
      "source": [
        "### **Que 2** \n",
        "\n",
        "[2 point]  What is the value of intercept you got after training the model using SGDRegressor?(select the closest answer)\n",
        "\n",
        "Options: <br>\n",
        "1. +0.005 <br>\n",
        "2. -0.005 <br>\n",
        "3. +0.105 <br>\n",
        "4. -0.105 <br>\n",
        "5. 0 <br>\n",
        "\n",
        "Ans: -0.005\n",
        "\n"
      ],
      "metadata": {
        "id": "p9K9BNcKofU2"
      }
    },
    {
      "cell_type": "markdown",
      "source": [
        "### **Que 3**\n",
        "\n",
        "[2 point]  What is the value of cofficient  corresponding to \"feature-3\"you got after trainig the model using SGDRegressor? (select the closest answer) \n",
        "\n",
        "[NAT]\n",
        "\n",
        "Ans: 81.238\n",
        "\n",
        "Range:(81-82)\n",
        "\n"
      ],
      "metadata": {
        "id": "oqlZ1DWi3F1D"
      }
    },
    {
      "cell_type": "markdown",
      "source": [
        "### **Que 4**\n",
        "\n",
        "[3 point]  What is the value of R2 score for test data [NAT]\n",
        "\n",
        "Ans: 0.999\n",
        "\n",
        "Range:(0.99-1)\n",
        "\n",
        "\n"
      ],
      "metadata": {
        "id": "LRU8OcuR4BZo"
      }
    },
    {
      "cell_type": "markdown",
      "source": [
        "### **Que 5**\n",
        "\n",
        "[3 Point] What is the  value of cofficient  corresponding to \"feature-5\" after 5th iteration.[NAT]\n",
        "\n",
        "\n",
        "Ans:57.04\n",
        "\n",
        "\n",
        "Range: (56-59)"
      ],
      "metadata": {
        "id": "KSQ8ccTYowGz"
      }
    },
    {
      "cell_type": "markdown",
      "source": [
        "**(Q1-Q5)Solutions:**"
      ],
      "metadata": {
        "id": "ZKLOyA-9oMe8"
      }
    },
    {
      "cell_type": "code",
      "source": [
        "X=data.iloc[:,:10]\n",
        "X.head(2)"
      ],
      "metadata": {
        "id": "0eHPUM9gQplY",
        "colab": {
          "base_uri": "https://localhost:8080/",
          "height": 193
        },
        "outputId": "243e75d5-71c3-4147-8d1b-780eefcd12ca"
      },
      "execution_count": null,
      "outputs": [
        {
          "output_type": "execute_result",
          "data": {
            "text/html": [
              "\n",
              "  <div id=\"df-837dc92f-e94d-4689-bce4-b761ac7f4c49\">\n",
              "    <div class=\"colab-df-container\">\n",
              "      <div>\n",
              "<style scoped>\n",
              "    .dataframe tbody tr th:only-of-type {\n",
              "        vertical-align: middle;\n",
              "    }\n",
              "\n",
              "    .dataframe tbody tr th {\n",
              "        vertical-align: top;\n",
              "    }\n",
              "\n",
              "    .dataframe thead th {\n",
              "        text-align: right;\n",
              "    }\n",
              "</style>\n",
              "<table border=\"1\" class=\"dataframe\">\n",
              "  <thead>\n",
              "    <tr style=\"text-align: right;\">\n",
              "      <th></th>\n",
              "      <th>Feature-1</th>\n",
              "      <th>Feature-2</th>\n",
              "      <th>Feature-3</th>\n",
              "      <th>Feature-4</th>\n",
              "      <th>Feature-5</th>\n",
              "      <th>Feature-6</th>\n",
              "      <th>Feature-7</th>\n",
              "      <th>Feature-8</th>\n",
              "      <th>Feature-9</th>\n",
              "      <th>Feature-10</th>\n",
              "    </tr>\n",
              "  </thead>\n",
              "  <tbody>\n",
              "    <tr>\n",
              "      <th>0</th>\n",
              "      <td>-1.580</td>\n",
              "      <td>1.050</td>\n",
              "      <td>1.06</td>\n",
              "      <td>-0.440</td>\n",
              "      <td>0.451</td>\n",
              "      <td>-0.0348</td>\n",
              "      <td>0.643</td>\n",
              "      <td>0.265</td>\n",
              "      <td>0.268</td>\n",
              "      <td>-0.851</td>\n",
              "    </tr>\n",
              "    <tr>\n",
              "      <th>1</th>\n",
              "      <td>-0.832</td>\n",
              "      <td>-0.866</td>\n",
              "      <td>-1.34</td>\n",
              "      <td>0.138</td>\n",
              "      <td>1.180</td>\n",
              "      <td>0.7330</td>\n",
              "      <td>-1.410</td>\n",
              "      <td>0.135</td>\n",
              "      <td>-0.088</td>\n",
              "      <td>-1.550</td>\n",
              "    </tr>\n",
              "  </tbody>\n",
              "</table>\n",
              "</div>\n",
              "      <button class=\"colab-df-convert\" onclick=\"convertToInteractive('df-837dc92f-e94d-4689-bce4-b761ac7f4c49')\"\n",
              "              title=\"Convert this dataframe to an interactive table.\"\n",
              "              style=\"display:none;\">\n",
              "        \n",
              "  <svg xmlns=\"http://www.w3.org/2000/svg\" height=\"24px\"viewBox=\"0 0 24 24\"\n",
              "       width=\"24px\">\n",
              "    <path d=\"M0 0h24v24H0V0z\" fill=\"none\"/>\n",
              "    <path d=\"M18.56 5.44l.94 2.06.94-2.06 2.06-.94-2.06-.94-.94-2.06-.94 2.06-2.06.94zm-11 1L8.5 8.5l.94-2.06 2.06-.94-2.06-.94L8.5 2.5l-.94 2.06-2.06.94zm10 10l.94 2.06.94-2.06 2.06-.94-2.06-.94-.94-2.06-.94 2.06-2.06.94z\"/><path d=\"M17.41 7.96l-1.37-1.37c-.4-.4-.92-.59-1.43-.59-.52 0-1.04.2-1.43.59L10.3 9.45l-7.72 7.72c-.78.78-.78 2.05 0 2.83L4 21.41c.39.39.9.59 1.41.59.51 0 1.02-.2 1.41-.59l7.78-7.78 2.81-2.81c.8-.78.8-2.07 0-2.86zM5.41 20L4 18.59l7.72-7.72 1.47 1.35L5.41 20z\"/>\n",
              "  </svg>\n",
              "      </button>\n",
              "      \n",
              "  <style>\n",
              "    .colab-df-container {\n",
              "      display:flex;\n",
              "      flex-wrap:wrap;\n",
              "      gap: 12px;\n",
              "    }\n",
              "\n",
              "    .colab-df-convert {\n",
              "      background-color: #E8F0FE;\n",
              "      border: none;\n",
              "      border-radius: 50%;\n",
              "      cursor: pointer;\n",
              "      display: none;\n",
              "      fill: #1967D2;\n",
              "      height: 32px;\n",
              "      padding: 0 0 0 0;\n",
              "      width: 32px;\n",
              "    }\n",
              "\n",
              "    .colab-df-convert:hover {\n",
              "      background-color: #E2EBFA;\n",
              "      box-shadow: 0px 1px 2px rgba(60, 64, 67, 0.3), 0px 1px 3px 1px rgba(60, 64, 67, 0.15);\n",
              "      fill: #174EA6;\n",
              "    }\n",
              "\n",
              "    [theme=dark] .colab-df-convert {\n",
              "      background-color: #3B4455;\n",
              "      fill: #D2E3FC;\n",
              "    }\n",
              "\n",
              "    [theme=dark] .colab-df-convert:hover {\n",
              "      background-color: #434B5C;\n",
              "      box-shadow: 0px 1px 3px 1px rgba(0, 0, 0, 0.15);\n",
              "      filter: drop-shadow(0px 1px 2px rgba(0, 0, 0, 0.3));\n",
              "      fill: #FFFFFF;\n",
              "    }\n",
              "  </style>\n",
              "\n",
              "      <script>\n",
              "        const buttonEl =\n",
              "          document.querySelector('#df-837dc92f-e94d-4689-bce4-b761ac7f4c49 button.colab-df-convert');\n",
              "        buttonEl.style.display =\n",
              "          google.colab.kernel.accessAllowed ? 'block' : 'none';\n",
              "\n",
              "        async function convertToInteractive(key) {\n",
              "          const element = document.querySelector('#df-837dc92f-e94d-4689-bce4-b761ac7f4c49');\n",
              "          const dataTable =\n",
              "            await google.colab.kernel.invokeFunction('convertToInteractive',\n",
              "                                                     [key], {});\n",
              "          if (!dataTable) return;\n",
              "\n",
              "          const docLinkHtml = 'Like what you see? Visit the ' +\n",
              "            '<a target=\"_blank\" href=https://colab.research.google.com/notebooks/data_table.ipynb>data table notebook</a>'\n",
              "            + ' to learn more about interactive tables.';\n",
              "          element.innerHTML = '';\n",
              "          dataTable['output_type'] = 'display_data';\n",
              "          await google.colab.output.renderOutput(dataTable, element);\n",
              "          const docLink = document.createElement('div');\n",
              "          docLink.innerHTML = docLinkHtml;\n",
              "          element.appendChild(docLink);\n",
              "        }\n",
              "      </script>\n",
              "    </div>\n",
              "  </div>\n",
              "  "
            ],
            "text/plain": [
              "   Feature-1  Feature-2  Feature-3  ...  Feature-8  Feature-9  Feature-10\n",
              "0     -1.580      1.050       1.06  ...      0.265      0.268      -0.851\n",
              "1     -0.832     -0.866      -1.34  ...      0.135     -0.088      -1.550\n",
              "\n",
              "[2 rows x 10 columns]"
            ]
          },
          "metadata": {},
          "execution_count": 9
        }
      ]
    },
    {
      "cell_type": "code",
      "source": [
        "X_array=X.to_numpy()"
      ],
      "metadata": {
        "id": "FD0bnIsOVFfq"
      },
      "execution_count": null,
      "outputs": []
    },
    {
      "cell_type": "code",
      "source": [
        "Y=data.iloc[:,10]\n",
        "Y.head(2)"
      ],
      "metadata": {
        "id": "IM_lmE4RQavt",
        "colab": {
          "base_uri": "https://localhost:8080/"
        },
        "outputId": "a557a038-613b-41b8-dd05-538538aaa7fb"
      },
      "execution_count": null,
      "outputs": [
        {
          "output_type": "execute_result",
          "data": {
            "text/plain": [
              "0     84.7\n",
              "1   -211.0\n",
              "Name: Target, dtype: float64"
            ]
          },
          "metadata": {},
          "execution_count": 11
        }
      ]
    },
    {
      "cell_type": "code",
      "source": [
        "Y_array=Y.to_numpy()"
      ],
      "metadata": {
        "id": "5zOvaG2uW7gN"
      },
      "execution_count": null,
      "outputs": []
    },
    {
      "cell_type": "code",
      "source": [
        "##Train test split\n",
        "from sklearn.model_selection import train_test_split\n",
        "X_train, X_test, Y_train, Y_test = train_test_split(X_array, \n",
        "                                                    Y_array, \n",
        "                                                    train_size=0.9, \n",
        "                                                    random_state=10)\n",
        "\n",
        "X_train.shape, X_test.shape, Y_train.shape, Y_test.shape"
      ],
      "metadata": {
        "id": "JITXA_v0PB1y",
        "colab": {
          "base_uri": "https://localhost:8080/"
        },
        "outputId": "f93884a3-0dc5-4ba1-80d7-c93fe3cefeae"
      },
      "execution_count": null,
      "outputs": [
        {
          "output_type": "execute_result",
          "data": {
            "text/plain": [
              "((81000, 10), (9000, 10), (81000,), (9000,))"
            ]
          },
          "metadata": {},
          "execution_count": 13
        }
      ]
    },
    {
      "cell_type": "code",
      "source": [
        "## Reshaping\n",
        "X_train, X_test = X_train.reshape(-1,90,10), X_test.reshape(-1,90,10)\n",
        "Y_train, Y_test = Y_train.reshape(-1,90), Y_test.reshape(-1,90)\n",
        "\n",
        "X_train.shape, X_test.shape, Y_train.shape, Y_test.shape"
      ],
      "metadata": {
        "id": "Sry8PpE6onTe",
        "colab": {
          "base_uri": "https://localhost:8080/"
        },
        "outputId": "cd940887-3f12-4947-b902-53b75d45d1c8"
      },
      "execution_count": null,
      "outputs": [
        {
          "output_type": "execute_result",
          "data": {
            "text/plain": [
              "((900, 90, 10), (100, 90, 10), (900, 90), (100, 90))"
            ]
          },
          "metadata": {},
          "execution_count": 14
        }
      ]
    },
    {
      "cell_type": "code",
      "source": [
        "# Implement SGD regressor\n",
        "from sklearn.linear_model import SGDRegressor\n",
        "\n",
        "regressor = SGDRegressor(random_state=10)\n",
        "# Selecting data in batches\n",
        "for i in range(X_train.shape[0]): \n",
        "    X_batch, Y_batch = X_train[i], Y_train[i]\n",
        "    # Partially fitting data in batches\n",
        "    regressor.partial_fit(X_batch, Y_batch) "
      ],
      "metadata": {
        "id": "-1SzNvwAo3L8"
      },
      "execution_count": null,
      "outputs": []
    },
    {
      "cell_type": "code",
      "source": [
        "X_train[i].shape"
      ],
      "metadata": {
        "colab": {
          "base_uri": "https://localhost:8080/"
        },
        "id": "oWNOW2MMlTm5",
        "outputId": "c7305056-643d-4a58-ee36-c7721aa5f672"
      },
      "execution_count": null,
      "outputs": [
        {
          "output_type": "execute_result",
          "data": {
            "text/plain": [
              "(90, 10)"
            ]
          },
          "metadata": {},
          "execution_count": 18
        }
      ]
    },
    {
      "cell_type": "code",
      "source": [
        "regressor.intercept_"
      ],
      "metadata": {
        "id": "8WP0UVFHegrK",
        "colab": {
          "base_uri": "https://localhost:8080/"
        },
        "outputId": "cc0089f4-a7c3-4aa5-c452-8a62a9661b3c"
      },
      "execution_count": null,
      "outputs": [
        {
          "output_type": "execute_result",
          "data": {
            "text/plain": [
              "array([-0.0051044])"
            ]
          },
          "metadata": {},
          "execution_count": 16
        }
      ]
    },
    {
      "cell_type": "code",
      "source": [
        "regressor.coef_"
      ],
      "metadata": {
        "id": "QKppTbNPwelN",
        "colab": {
          "base_uri": "https://localhost:8080/"
        },
        "outputId": "aa97c4b6-e98c-4e4a-fb0d-ac2968cd709a"
      },
      "execution_count": null,
      "outputs": [
        {
          "output_type": "execute_result",
          "data": {
            "text/plain": [
              "array([51.32117195, 22.26580455, 81.23785419, 53.19578104, 76.46592847,\n",
              "       71.47197842, 93.45078666, 51.92184073, 30.03844346, 40.95696488])"
            ]
          },
          "metadata": {},
          "execution_count": 17
        }
      ]
    },
    {
      "cell_type": "code",
      "source": [
        "from sklearn.metrics import mean_squared_error, r2_score\n",
        "from sklearn.linear_model import SGDRegressor\n",
        "\n",
        "regressor = SGDRegressor()\n",
        "\n",
        "for i in range(X_train.shape[0]): ## Looping through batches\n",
        "    X_batch, Y_batch = X_train[i], Y_train[i]\n",
        "    regressor.partial_fit(X_batch, Y_batch) ## Partially fitting data in batches\n",
        "\n",
        "Y_test_preds = []\n",
        "for j in range(X_test.shape[0]): ## Looping through test batches for making predictions\n",
        "    Y_preds = regressor.predict(X_test[j])\n",
        "    Y_test_preds.extend(Y_preds.tolist())\n",
        "\n",
        "print(\"Test MSE      : {}\".format(mean_squared_error(Y_test.reshape(-1), Y_test_preds)))\n",
        "print(\"Test R2 Score : {}\".format(r2_score(Y_test.reshape(-1), Y_test_preds)))"
      ],
      "metadata": {
        "id": "NtZj9b1BpBv5"
      },
      "execution_count": null,
      "outputs": []
    },
    {
      "cell_type": "code",
      "source": [
        "##Implement SGD regressor\n",
        "from sklearn.linear_model import SGDRegressor\n",
        "\n",
        "regressor = SGDRegressor(random_state=10)\n",
        "##Selecting data in batches\n",
        "for i in range(X_train.shape[0]): \n",
        "    X_batch, Y_batch = X_train[i], Y_train[i]\n",
        "    ## Partially fitting data in batches\n",
        "    regressor.partial_fit(X_batch, Y_batch)\n",
        "    if i==5:\n",
        "      break\n",
        "print(regressor.coef_)"
      ],
      "metadata": {
        "id": "g3YmIJZW6M-m"
      },
      "execution_count": null,
      "outputs": []
    },
    {
      "cell_type": "markdown",
      "source": [
        "# **(Common data for Q6 to Q8 Graded questions)**\n",
        "\n",
        "This dataset was constructed by adding elevation information to a 2D road network in North Jutland, Denmark (covering a region of 185 x 135 km^2). Elevation values where extracted from a publicly available massive Laser Scan Point Cloud for Denmark. This 3D road network was eventually used for benchmarking various fuel and CO2 estimation algorithms. This dataset can be used by any applications that require to know very\n",
        "accurate elevation information of a road network to perform more accurate routing for eco-routing, cyclist routes etc. For the data mining and machine learning community, this dataset can be used as 'ground-truth' validation in spatial mining techniques and satellite image processing. It has no class labels,\n",
        "\n",
        "Use this dataset to guess some missing elevation information for some points on the road.\n",
        "\n",
        "**Column names:**\n",
        "\n",
        "1. OSM_ID: OpenStreetMap ID for each road segment or edge in the graph.\n",
        "\n",
        "2. LONGITUDE: Web Mercaptor (Google format) longitude\n",
        "\n",
        "3. LATITUDE: Web Mercaptor (Google format) latitude\n",
        "\n",
        "4. ALTITUDE: Height in meters.\n",
        "\n",
        "Load the dataset from link(\"https://archive.ics.uci.edu/ml/machine-learning-databases/00246/3D_spatial_network.txt\").\n",
        "Set parameter chunk size=20000 and iterator =True in pd.read_csv().\n",
        "\n",
        "\n",
        "**NOTE: The above file doesn't have column names**\n",
        "\n",
        "Scale your whole dataset first with standard scalar using partial_fit method. Then use SGDRegressor(random state=10) on the dataset and answer the following."
      ],
      "metadata": {
        "id": "dFMgRP_91P8K"
      }
    },
    {
      "cell_type": "markdown",
      "source": [
        "### **Que 6**\n",
        "\n",
        "[1 point] Check how many total samples are there in the dataset?\n",
        "\n",
        "Options: <br>\n",
        "1.  470000<br>\n",
        "2. 400000 <br>\n",
        "3. 90,000 <br>\n",
        "4. 434874 <br>\n",
        "\n",
        "Ans: 434874\n",
        "\n"
      ],
      "metadata": {
        "id": "rA07mgV0_IDv"
      }
    },
    {
      "cell_type": "markdown",
      "source": [
        "### **Que 7**\n",
        "\n",
        "[2 point]  \n",
        "What is the value of intercept after 7th iteration. (select the closest option).\n",
        "\n",
        "Options: <br>\n",
        "A. [9.6101e+10] <br>\n",
        "B. [4.1482e+15] <br>\n",
        "C. [ 8.6520e+11] <br>\n",
        "D. [ 5.5057e+12] <br>\n",
        "E. [-3.3580229e+08]\n",
        "\n",
        "Ans: E\n"
      ],
      "metadata": {
        "id": "_fJr51DL_w4r"
      }
    },
    {
      "cell_type": "markdown",
      "source": [
        "### **Que 8**\n",
        "\n",
        "[2 point] What is the value of cofficient corresponding to longitude feature after 7th iteration.(select the closest option).\n",
        "\n",
        "Options: <br>\n",
        "A. [9.6101e+10]<br>\n",
        "B. [4.1482e+15] <br>\n",
        "C. [ 8.6520e+11] <br>\n",
        "D. [ 5.5057e+12] <br>\n",
        "E. [1.732780e+6]\n",
        "\n",
        "Ans: E\n"
      ],
      "metadata": {
        "id": "_v5Me2zCLa_B"
      }
    },
    {
      "cell_type": "markdown",
      "source": [
        " **(Q6-Q8)Solution:**"
      ],
      "metadata": {
        "id": "HWtdaH_zP_rl"
      }
    },
    {
      "cell_type": "code",
      "source": [
        "network_data_url = \"https://archive.ics.uci.edu/ml/machine-learning-databases/00246/3D_spatial_network.txt\" \n",
        "data2=pd.read_csv(network_data_url, header=None)"
      ],
      "metadata": {
        "id": "m0Qqtvmb1sWJ"
      },
      "execution_count": null,
      "outputs": []
    },
    {
      "cell_type": "code",
      "source": [
        "data2.columns"
      ],
      "metadata": {
        "colab": {
          "base_uri": "https://localhost:8080/"
        },
        "id": "8XZZPBpMs9bp",
        "outputId": "d1dc26ba-8e78-4a58-88b4-81bf761b980a"
      },
      "execution_count": null,
      "outputs": [
        {
          "output_type": "execute_result",
          "data": {
            "text/plain": [
              "Int64Index([0, 1, 2, 3], dtype='int64')"
            ]
          },
          "metadata": {},
          "execution_count": 40
        }
      ]
    },
    {
      "cell_type": "code",
      "source": [
        "data2.head()"
      ],
      "metadata": {
        "colab": {
          "base_uri": "https://localhost:8080/",
          "height": 206
        },
        "id": "a1lW-O-Jol3O",
        "outputId": "ffbac6dc-9cb3-40fc-8219-0a6d67b7dd8f"
      },
      "execution_count": null,
      "outputs": [
        {
          "output_type": "execute_result",
          "data": {
            "text/html": [
              "\n",
              "  <div id=\"df-ccda0f80-46db-4e73-be15-911a162641f2\">\n",
              "    <div class=\"colab-df-container\">\n",
              "      <div>\n",
              "<style scoped>\n",
              "    .dataframe tbody tr th:only-of-type {\n",
              "        vertical-align: middle;\n",
              "    }\n",
              "\n",
              "    .dataframe tbody tr th {\n",
              "        vertical-align: top;\n",
              "    }\n",
              "\n",
              "    .dataframe thead th {\n",
              "        text-align: right;\n",
              "    }\n",
              "</style>\n",
              "<table border=\"1\" class=\"dataframe\">\n",
              "  <thead>\n",
              "    <tr style=\"text-align: right;\">\n",
              "      <th></th>\n",
              "      <th>0</th>\n",
              "      <th>1</th>\n",
              "      <th>2</th>\n",
              "      <th>3</th>\n",
              "    </tr>\n",
              "  </thead>\n",
              "  <tbody>\n",
              "    <tr>\n",
              "      <th>0</th>\n",
              "      <td>144552912</td>\n",
              "      <td>9.349849</td>\n",
              "      <td>56.740876</td>\n",
              "      <td>17.052772</td>\n",
              "    </tr>\n",
              "    <tr>\n",
              "      <th>1</th>\n",
              "      <td>144552912</td>\n",
              "      <td>9.350188</td>\n",
              "      <td>56.740679</td>\n",
              "      <td>17.614840</td>\n",
              "    </tr>\n",
              "    <tr>\n",
              "      <th>2</th>\n",
              "      <td>144552912</td>\n",
              "      <td>9.350549</td>\n",
              "      <td>56.740544</td>\n",
              "      <td>18.083536</td>\n",
              "    </tr>\n",
              "    <tr>\n",
              "      <th>3</th>\n",
              "      <td>144552912</td>\n",
              "      <td>9.350806</td>\n",
              "      <td>56.740485</td>\n",
              "      <td>18.279465</td>\n",
              "    </tr>\n",
              "    <tr>\n",
              "      <th>4</th>\n",
              "      <td>144552912</td>\n",
              "      <td>9.351053</td>\n",
              "      <td>56.740486</td>\n",
              "      <td>18.422974</td>\n",
              "    </tr>\n",
              "  </tbody>\n",
              "</table>\n",
              "</div>\n",
              "      <button class=\"colab-df-convert\" onclick=\"convertToInteractive('df-ccda0f80-46db-4e73-be15-911a162641f2')\"\n",
              "              title=\"Convert this dataframe to an interactive table.\"\n",
              "              style=\"display:none;\">\n",
              "        \n",
              "  <svg xmlns=\"http://www.w3.org/2000/svg\" height=\"24px\"viewBox=\"0 0 24 24\"\n",
              "       width=\"24px\">\n",
              "    <path d=\"M0 0h24v24H0V0z\" fill=\"none\"/>\n",
              "    <path d=\"M18.56 5.44l.94 2.06.94-2.06 2.06-.94-2.06-.94-.94-2.06-.94 2.06-2.06.94zm-11 1L8.5 8.5l.94-2.06 2.06-.94-2.06-.94L8.5 2.5l-.94 2.06-2.06.94zm10 10l.94 2.06.94-2.06 2.06-.94-2.06-.94-.94-2.06-.94 2.06-2.06.94z\"/><path d=\"M17.41 7.96l-1.37-1.37c-.4-.4-.92-.59-1.43-.59-.52 0-1.04.2-1.43.59L10.3 9.45l-7.72 7.72c-.78.78-.78 2.05 0 2.83L4 21.41c.39.39.9.59 1.41.59.51 0 1.02-.2 1.41-.59l7.78-7.78 2.81-2.81c.8-.78.8-2.07 0-2.86zM5.41 20L4 18.59l7.72-7.72 1.47 1.35L5.41 20z\"/>\n",
              "  </svg>\n",
              "      </button>\n",
              "      \n",
              "  <style>\n",
              "    .colab-df-container {\n",
              "      display:flex;\n",
              "      flex-wrap:wrap;\n",
              "      gap: 12px;\n",
              "    }\n",
              "\n",
              "    .colab-df-convert {\n",
              "      background-color: #E8F0FE;\n",
              "      border: none;\n",
              "      border-radius: 50%;\n",
              "      cursor: pointer;\n",
              "      display: none;\n",
              "      fill: #1967D2;\n",
              "      height: 32px;\n",
              "      padding: 0 0 0 0;\n",
              "      width: 32px;\n",
              "    }\n",
              "\n",
              "    .colab-df-convert:hover {\n",
              "      background-color: #E2EBFA;\n",
              "      box-shadow: 0px 1px 2px rgba(60, 64, 67, 0.3), 0px 1px 3px 1px rgba(60, 64, 67, 0.15);\n",
              "      fill: #174EA6;\n",
              "    }\n",
              "\n",
              "    [theme=dark] .colab-df-convert {\n",
              "      background-color: #3B4455;\n",
              "      fill: #D2E3FC;\n",
              "    }\n",
              "\n",
              "    [theme=dark] .colab-df-convert:hover {\n",
              "      background-color: #434B5C;\n",
              "      box-shadow: 0px 1px 3px 1px rgba(0, 0, 0, 0.15);\n",
              "      filter: drop-shadow(0px 1px 2px rgba(0, 0, 0, 0.3));\n",
              "      fill: #FFFFFF;\n",
              "    }\n",
              "  </style>\n",
              "\n",
              "      <script>\n",
              "        const buttonEl =\n",
              "          document.querySelector('#df-ccda0f80-46db-4e73-be15-911a162641f2 button.colab-df-convert');\n",
              "        buttonEl.style.display =\n",
              "          google.colab.kernel.accessAllowed ? 'block' : 'none';\n",
              "\n",
              "        async function convertToInteractive(key) {\n",
              "          const element = document.querySelector('#df-ccda0f80-46db-4e73-be15-911a162641f2');\n",
              "          const dataTable =\n",
              "            await google.colab.kernel.invokeFunction('convertToInteractive',\n",
              "                                                     [key], {});\n",
              "          if (!dataTable) return;\n",
              "\n",
              "          const docLinkHtml = 'Like what you see? Visit the ' +\n",
              "            '<a target=\"_blank\" href=https://colab.research.google.com/notebooks/data_table.ipynb>data table notebook</a>'\n",
              "            + ' to learn more about interactive tables.';\n",
              "          element.innerHTML = '';\n",
              "          dataTable['output_type'] = 'display_data';\n",
              "          await google.colab.output.renderOutput(dataTable, element);\n",
              "          const docLink = document.createElement('div');\n",
              "          docLink.innerHTML = docLinkHtml;\n",
              "          element.appendChild(docLink);\n",
              "        }\n",
              "      </script>\n",
              "    </div>\n",
              "  </div>\n",
              "  "
            ],
            "text/plain": [
              "           0         1          2          3\n",
              "0  144552912  9.349849  56.740876  17.052772\n",
              "1  144552912  9.350188  56.740679  17.614840\n",
              "2  144552912  9.350549  56.740544  18.083536\n",
              "3  144552912  9.350806  56.740485  18.279465\n",
              "4  144552912  9.351053  56.740486  18.422974"
            ]
          },
          "metadata": {},
          "execution_count": 41
        }
      ]
    },
    {
      "cell_type": "code",
      "source": [
        "import pandas as pd\n",
        "from sklearn.preprocessing import StandardScaler\n",
        "chunksize = 20000\n",
        "scaler = StandardScaler()\n",
        "\n",
        "for train_df in pd.read_csv(network_data_url,\n",
        "                            chunksize=chunksize,\n",
        "                            iterator=True):\n",
        "    xtrain_partial = train_df.iloc[:, 1:3]\n",
        "    ytrain_partial = train_df.iloc[:, 3]\n",
        "    scaler.partial_fit(xtrain_partial, ytrain_partial) "
      ],
      "metadata": {
        "id": "60351x0BdeAT"
      },
      "execution_count": null,
      "outputs": []
    },
    {
      "cell_type": "code",
      "source": [
        "import pandas as pd\n",
        "\n",
        "chunksize = 20000\n",
        "regressor = SGDRegressor(random_state=10)\n",
        "\n",
        "iter = 1\n",
        "for train_df in pd.read_csv(network_data_url,\n",
        "                            chunksize=chunksize,\n",
        "                            iterator=True):\n",
        "  \n",
        "    xtrain_partial = train_df.iloc[:, 1:3]\n",
        "    ytrain_partial = train_df.iloc[:, 3]\n",
        "    scaler.transform(xtrain_partial)\n",
        "    regressor.partial_fit(xtrain_partial, ytrain_partial)\n",
        "    if iter==7:\n",
        "      print(\"After iter #\", iter)\n",
        "      print(regressor.intercept_) \n",
        "      print(regressor.coef_)\n",
        "      break  \n",
        "    iter = iter + 1"
      ],
      "metadata": {
        "id": "Av8GTCDbA4p2",
        "colab": {
          "base_uri": "https://localhost:8080/"
        },
        "outputId": "444365bf-a5d9-4573-b637-a8d2076c4c2b"
      },
      "execution_count": null,
      "outputs": [
        {
          "output_type": "stream",
          "name": "stdout",
          "text": [
            "After iter # 7\n",
            "[-3.3580229e+08]\n",
            "[-1732780.23537162  6145752.04828986]\n"
          ]
        }
      ]
    },
    {
      "cell_type": "markdown",
      "source": [
        "# (Common data for Q9 to 10)\n",
        "Load Iris datset on Colab and use KNN classifier to build the model Using following steps.\n",
        "\n",
        "Step 1: Load the dataset and split it using train_test_split by keeping: test_size= 0.2 random_state=10\n",
        "\n",
        "Step 2: Use Normalizer() as a scaling function to scale the data.\n",
        "\n",
        "Step 3: Use KNeighborsClassifier(K) as an estimator to predict the output."
      ],
      "metadata": {
        "id": "J5rscB2XhOv6"
      }
    },
    {
      "cell_type": "code",
      "source": [
        "import matplotlib.pyplot as plt\n",
        "import numpy as np\n",
        "import pandas as pd\n",
        "import seaborn as sns\n",
        "\n",
        "from sklearn import datasets\n",
        "from sklearn.model_selection import train_test_split , KFold\n",
        "from sklearn.preprocessing import Normalizer\n",
        "\n",
        "from sklearn.metrics import accuracy_score,f1_score, recall_score\n",
        "from sklearn.neighbors import KNeighborsClassifier"
      ],
      "metadata": {
        "id": "-7xgP_nUJkpb"
      },
      "execution_count": null,
      "outputs": []
    },
    {
      "cell_type": "code",
      "source": [
        "iris = datasets.load_iris()\n",
        "x=iris.data\n",
        "y=iris.target"
      ],
      "metadata": {
        "id": "JPdEk_-QJ61J"
      },
      "execution_count": null,
      "outputs": []
    },
    {
      "cell_type": "code",
      "source": [
        "x_train, x_test, y_train, y_test= train_test_split(x, y,\n",
        "                                                   test_size= 0.2,\n",
        "                                                   random_state= 10)"
      ],
      "metadata": {
        "id": "wA-iXOpOKWVd"
      },
      "execution_count": null,
      "outputs": []
    },
    {
      "cell_type": "code",
      "source": [
        "scaler= Normalizer().fit(x_train) # the scaler is fitted to the training set\n",
        "normalized_x_train= scaler.transform(x_train) # the scaler is applied to the training set\n",
        "normalized_x_test= scaler.transform(x_test) # the scaler is applied to the test set"
      ],
      "metadata": {
        "id": "wFj-67NeKfnU"
      },
      "execution_count": null,
      "outputs": []
    },
    {
      "cell_type": "markdown",
      "source": [
        "### **Que 9**\n",
        "\n",
        "[1 point] Which of the following K value gives the best accuracy on test set.\n",
        "\n",
        "Options: <br>\n",
        "1.  k=4<br>\n",
        "2. k=2 <br>\n",
        "3. k=3 <br>\n",
        "4. All K value given in the option gives same score. <br>\n",
        "\n",
        "**Ans:** Option 4\n",
        "\n"
      ],
      "metadata": {
        "id": "SAd4TG-teJX-"
      }
    },
    {
      "cell_type": "markdown",
      "source": [
        "**Solution**"
      ],
      "metadata": {
        "id": "G0UgoBBq4tGC"
      }
    },
    {
      "cell_type": "code",
      "source": [
        "for i in range(1, 4): \n",
        "  knn=KNeighborsClassifier(i)\n",
        "  knn.fit(normalized_x_train, y_train)\n",
        "  y_pred= knn.predict(normalized_x_test)\n",
        "  print(f'Accuracey for K={i} is {accuracy_score(y_test,y_pred)}')"
      ],
      "metadata": {
        "colab": {
          "base_uri": "https://localhost:8080/"
        },
        "id": "v7sYQVkeKu5c",
        "outputId": "d83bbab6-4295-4828-fa37-ef6e45d6f099"
      },
      "execution_count": null,
      "outputs": [
        {
          "output_type": "stream",
          "name": "stdout",
          "text": [
            "Accuracey for K=1 is 0.9666666666666667\n",
            "Accuracey for K=2 is 0.9666666666666667\n",
            "Accuracey for K=3 is 0.9666666666666667\n"
          ]
        }
      ]
    },
    {
      "cell_type": "markdown",
      "source": [
        "### **Que 10**\n",
        "\n",
        "[1 point] What is the accuracy for k=3?\n",
        "\n",
        "Options: <br>\n",
        "1.  0.96<br>\n",
        "2. 0.91 <br>\n",
        "3. 0.99 <br>\n",
        "4. 1.0  <br>\n",
        "\n",
        "**Ans:** 0.96\n",
        "\n"
      ],
      "metadata": {
        "id": "MI9rcKw5eyCy"
      }
    },
    {
      "cell_type": "code",
      "source": [
        "knn=KNeighborsClassifier(3)\n",
        "knn.fit(normalized_x_train, y_train)\n",
        "y_pred= knn.predict(normalized_x_test)\n",
        "print(f'Accuracey for K={i} is {accuracy_score(y_test,y_pred)}')"
      ],
      "metadata": {
        "id": "ISINz4ej5EQZ"
      },
      "execution_count": null,
      "outputs": []
    },
    {
      "cell_type": "markdown",
      "source": [
        "### **Que 11**\n",
        "\n",
        "[1 point] Compute wieghted F1 score value  for k=3.(Keep parameter average='weighted') \n",
        "\n",
        "[NAT]\n",
        "\n",
        "\n",
        "**Ans:** 0.9671\n",
        "\n",
        "Range: 0.95-0.98\n"
      ],
      "metadata": {
        "id": "VQXrEny9fJo6"
      }
    },
    {
      "cell_type": "markdown",
      "source": [
        " **(Q9-Q11)Solution:**"
      ],
      "metadata": {
        "id": "XgI5dZccZmeH"
      }
    },
    {
      "cell_type": "code",
      "source": [
        "from sklearn.metrics import classification_report\n",
        "target_names = ['class 0', 'class 1', 'class 2']\n",
        "print(classification_report(y_test, y_pred, target_names=target_names))"
      ],
      "metadata": {
        "colab": {
          "base_uri": "https://localhost:8080/"
        },
        "id": "gE3xMuBlZyVG",
        "outputId": "4feb8551-c77b-4def-d4d2-96a2a514afa2"
      },
      "execution_count": null,
      "outputs": [
        {
          "output_type": "stream",
          "name": "stdout",
          "text": [
            "              precision    recall  f1-score   support\n",
            "\n",
            "     class 0       1.00      1.00      1.00        10\n",
            "     class 1       1.00      0.92      0.96        13\n",
            "     class 2       0.88      1.00      0.93         7\n",
            "\n",
            "    accuracy                           0.97        30\n",
            "   macro avg       0.96      0.97      0.96        30\n",
            "weighted avg       0.97      0.97      0.97        30\n",
            "\n"
          ]
        }
      ]
    },
    {
      "cell_type": "code",
      "source": [
        "accuracy_score(y_test,y_pred)"
      ],
      "metadata": {
        "colab": {
          "base_uri": "https://localhost:8080/"
        },
        "id": "2FvjyNbiZSxz",
        "outputId": "16fa6716-1b4b-4727-851b-c44322f5591b"
      },
      "execution_count": null,
      "outputs": [
        {
          "output_type": "execute_result",
          "data": {
            "text/plain": [
              "0.9666666666666667"
            ]
          },
          "metadata": {},
          "execution_count": 39
        }
      ]
    },
    {
      "cell_type": "code",
      "source": [
        "f1_score(y_test, y_pred, average='weighted')"
      ],
      "metadata": {
        "colab": {
          "base_uri": "https://localhost:8080/"
        },
        "id": "F7-NsDmnbno9",
        "outputId": "ecb4ab49-1649-4310-d8d9-2d279bc57957"
      },
      "execution_count": null,
      "outputs": [
        {
          "output_type": "execute_result",
          "data": {
            "text/plain": [
              "0.9671111111111111"
            ]
          },
          "metadata": {},
          "execution_count": 40
        }
      ]
    },
    {
      "cell_type": "code",
      "source": [
        "recall_score(y_test, y_pred, average='weighted')"
      ],
      "metadata": {
        "colab": {
          "base_uri": "https://localhost:8080/"
        },
        "id": "fLu96lRxbvDA",
        "outputId": "bdc2f505-c545-44cb-9bc0-91dfa4a9b3c9"
      },
      "execution_count": null,
      "outputs": [
        {
          "output_type": "execute_result",
          "data": {
            "text/plain": [
              "0.9666666666666667"
            ]
          },
          "metadata": {},
          "execution_count": 41
        }
      ]
    },
    {
      "cell_type": "code",
      "source": [
        "accuracy_list=[]\n",
        "for i in range(1,20):\n",
        "  knn=KNeighborsClassifier(i)\n",
        "  knn.fit(normalized_x_train, y_train)\n",
        "  y_pred= knn.predict(normalized_x_test)\n",
        "  b=accuracy_score(y_test,y_pred)\n",
        "  accuracy_list.append(b)"
      ],
      "metadata": {
        "id": "H3FYlxZPcUiP"
      },
      "execution_count": null,
      "outputs": []
    }
  ]
}