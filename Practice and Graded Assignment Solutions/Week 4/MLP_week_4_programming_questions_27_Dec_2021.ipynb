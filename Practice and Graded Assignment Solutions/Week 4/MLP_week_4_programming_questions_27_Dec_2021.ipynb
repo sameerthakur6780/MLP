{
  "cells": [
    {
      "cell_type": "markdown",
      "metadata": {
        "id": "rMYoc1Y1bFs7"
      },
      "source": [
        "#Question 1- Practice\n",
        "\n",
        "\n",
        "Write the function `compute_explained_variance(y_true, y_pred)` for calculating the explained variance score for a linear regression dataset\n",
        "Here `y_true` is the true (actual) label and `y_pred` is the predicted label. The function should return the explained variance score`evs`.\n",
        "Consider, \n",
        "``\n",
        "y_true = [7, 4, 9, 4] and\n",
        "y_pred = [8, 7, 12, 5]\n",
        "``\n",
        "For these labels, what is the output of the function 'compute_explained_variance'? (Enter your answer in four decimal places)\n",
        "\n",
        "(NAT)\n",
        "\n",
        "**Answer: 0.7777 (Range: 0.7-0.8)** "
      ]
    },
    {
      "cell_type": "markdown",
      "metadata": {
        "id": "69-14N_6Hn0U"
      },
      "source": [
        "**Solution**"
      ]
    },
    {
      "cell_type": "code",
      "execution_count": null,
      "metadata": {
        "id": "QUBl_uzeHQQT"
      },
      "outputs": [],
      "source": [
        "def compute_explained_variance(y_true, y_pred):\n",
        "  from sklearn.metrics import explained_variance_score\n",
        "  evs=explained_variance_score(y_true, y_pred)\n",
        "  return evs"
      ]
    },
    {
      "cell_type": "code",
      "execution_count": null,
      "metadata": {
        "colab": {
          "base_uri": "https://localhost:8080/"
        },
        "id": "6ICbC4S1HTcr",
        "outputId": "c360ef03-6057-40f1-eae9-c89151afb0cb"
      },
      "outputs": [
        {
          "name": "stdout",
          "output_type": "stream",
          "text": [
            "0.7777777777777778\n"
          ]
        }
      ],
      "source": [
        "from sklearn.metrics import explained_variance_score\n",
        "y_true = [7, 4, 9, 4]\n",
        "y_pred = [8, 7, 12, 5]\n",
        "print(compute_explained_variance(y_true, y_pred))"
      ]
    },
    {
      "cell_type": "markdown",
      "metadata": {
        "id": "7e0-aOkCm_Hj"
      },
      "source": [
        "# Question 2- Practice\n",
        "Write a function compute_score(X_train, y_train, X_test, y_test) to compute the score of SGDRegressor for predicting the house price of\n",
        "California Housing dataset.\n",
        "Write your code based on the following keypoints:\n",
        "- Split the California housing dataset into train and test set with 70:30 ratio and `random_state = 1`\n",
        "- Import StandardScaler for scaling X_train and X_test to X_train_norm and X_test_norm `with_mean = True` and `with_std = True`\n",
        "- Import SGDRegressor as 'model' with hyperparamters `loss` as 'squared_error', `penalty` as 'l1' and `alpha` as 0.01 and `random_state = 1`\n",
        "- Train the 'model' and compute the 'score' on test data\n",
        "\n",
        "Enter the value of the 'score' computed from the function 'compute_score'. (Enter your answer in four decimal places)\n",
        "\n",
        "(NAT)\n",
        "\n",
        "**Answer: 0.5951 (Range: 0.59 - 0.6)**"
      ]
    },
    {
      "cell_type": "markdown",
      "metadata": {
        "id": "ej21Ud-XMyDz"
      },
      "source": [
        "**Solution**"
      ]
    },
    {
      "cell_type": "code",
      "execution_count": null,
      "metadata": {
        "id": "2ESJOhxeRpSv"
      },
      "outputs": [],
      "source": [
        "import numpy as np\n",
        "import sklearn\n",
        "\n",
        "from sklearn.datasets import fetch_california_housing\n",
        "housing = fetch_california_housing()\n",
        "\n",
        "from sklearn.model_selection import train_test_split\n",
        "X_train, X_test, y_train, y_test = train_test_split(housing.data, housing.target, test_size=0.3, random_state = 1)"
      ]
    },
    {
      "cell_type": "code",
      "execution_count": null,
      "metadata": {
        "id": "tGdxK9bJnB2O"
      },
      "outputs": [],
      "source": [
        "def compute_score(X_train, y_train, X_test, y_test):\n",
        "  \n",
        "  #Your code starts here:\n",
        "  from sklearn.preprocessing import StandardScaler\n",
        "  from sklearn.linear_model import SGDRegressor\n",
        "\n",
        "  scaler = StandardScaler(with_mean=True, with_std=True)\n",
        "  X_train_norm =scaler.fit_transform(X_train)\n",
        "  X_test_norm = scaler.transform(X_test)\n",
        "\n",
        "  model = SGDRegressor(loss = 'squared_error', penalty = 'l1', alpha = 0.01, random_state = 1 )\n",
        "  model.fit(X_train_norm,y_train)\n",
        "\n",
        "  score = model.score(X_test_norm, y_test)\n",
        "  return score\n",
        "  #Your code ends here\n",
        "  pass\n"
      ]
    },
    {
      "cell_type": "code",
      "execution_count": null,
      "metadata": {
        "colab": {
          "base_uri": "https://localhost:8080/"
        },
        "id": "xsiyV1eqMiLC",
        "outputId": "f04246d9-66fd-4ce2-ed50-ced252701c4e"
      },
      "outputs": [
        {
          "name": "stdout",
          "output_type": "stream",
          "text": [
            "0.5951040704728554\n"
          ]
        }
      ],
      "source": [
        "score = compute_score(X_train, y_train, X_test, y_test)\n",
        "print(score)"
      ]
    },
    {
      "cell_type": "markdown",
      "metadata": {
        "id": "bX4YHXftOZCq"
      },
      "source": []
    },
    {
      "cell_type": "markdown",
      "metadata": {
        "id": "vMJXGfTpwQ4F"
      },
      "source": [
        "#Question 1-Graded\n",
        "\n",
        "Write a function `k_fold_cv(X)` to run 2-fold cross validation repeated 2 times for the array `X = [[1, 2], [3, 4], [1, 2], [3, 4]]` which will return a concatenated array combining the training and testing dataset. Set `random_state=1` in your code. Which of the following options denote the concatenated array?\n",
        "\n",
        "\n",
        "(a) [0 2 1 3]\n",
        "\n",
        "(b) [1 0 3 2]\n",
        "\n",
        "(c) [2 3 0 1]\n",
        "\n",
        "(d) [1 3 1 2]\n",
        "\n",
        "(MCQ) \n",
        "**Option 1**"
      ]
    },
    {
      "cell_type": "markdown",
      "metadata": {
        "id": "r-foABwHdo2l"
      },
      "source": [
        "**Solution**"
      ]
    },
    {
      "cell_type": "markdown",
      "metadata": {},
      "source": []
    },
    {
      "cell_type": "code",
      "execution_count": null,
      "metadata": {
        "id": "pHhOkz8z3RBG"
      },
      "outputs": [],
      "source": [
        "import numpy as np\n",
        "import random\n",
        "from sklearn.model_selection import RepeatedKFold"
      ]
    },
    {
      "cell_type": "code",
      "execution_count": null,
      "metadata": {
        "colab": {
          "base_uri": "https://localhost:8080/"
        },
        "id": "tEKFw-9k31DH",
        "outputId": "4ddaada5-d108-4da8-99da-859844e17d4a"
      },
      "outputs": [
        {
          "name": "stdout",
          "output_type": "stream",
          "text": [
            "[0 2 1 3]\n"
          ]
        }
      ],
      "source": [
        "X = np.array([[1, 2], [3, 4], [1, 2], [3, 4]])\n",
        "\n",
        "def k_fold_cv(X,random_state):   \n",
        "  ans = RepeatedKFold(n_splits=2, n_repeats=2, random_state=1)\n",
        "  split = 1\n",
        "  for train, test in ans.split(X):\n",
        "    #print(\"split #%d, %s %s\" % (split, train, test))\n",
        "     \n",
        "    split += 1\n",
        "  array1=np.append(train, test)\n",
        "  return array1\n",
        "pass\n",
        "EOP = str(k_fold_cv(X,random_state))\n",
        "print(EOP)\n",
        "\n",
        "  "
      ]
    },
    {
      "cell_type": "markdown",
      "metadata": {
        "id": "a4FEO_j-fULf"
      },
      "source": []
    },
    {
      "cell_type": "markdown",
      "metadata": {
        "id": "vXUeJCwUnVZB"
      },
      "source": [
        "#Question 2- Graded\n",
        "\n",
        "Write a code to predict the house price of California Housing dataset using GridSearchCV.\n",
        "\n",
        "Write your code based on the following keypoints:\n",
        "- Split the California housing dataset into train and test set with 70:30 ratio with `random_state = 1`.\n",
        "- Import StandardScaler for scaling X_train and X_test to X_train_norm and X_test_norm `with_mean = True` and `with_std = True`\n",
        "- Import SGDRegressor with `random_state = 1`\n",
        "- Pass SGDRegressor through GridSearchCV\n",
        "- Hyperparamter tuning to be done over\n",
        "  - `loss` as 'squared_error' or 'huber'\n",
        "  - `penalty` as 'l1' or 'l2'\n",
        "  - `alpha` as 0.1, 0.01, 0.001\n",
        "  - maximum number of passes as [1000,2000,5000]\n",
        "- Cross Validation = 4\n",
        "- Train the 'model' and compute the 'score' on test data\n",
        "\n",
        "Question 1: Enter the value of the 'score'. (Enter your answer in four decimal places)\n",
        "\n",
        "(NAT) **Answer: 0.5951 (Range : 0.589-0.599)**\n",
        "\n",
        "Question 2: Enter the value of the best `alpha` obtained.\n",
        "\n",
        "(NAT) **Answer: 0.01**\n",
        "\n",
        "Question 3: Enter the value of the best maximum number of passes obtained. \n",
        "\n",
        "(NAT)  **Answer: 1000**"
      ]
    },
    {
      "cell_type": "markdown",
      "metadata": {
        "id": "Ihxz3quCfglk"
      },
      "source": [
        "**Solution**"
      ]
    },
    {
      "cell_type": "code",
      "execution_count": null,
      "metadata": {
        "id": "E8yp8LNDnVZG"
      },
      "outputs": [],
      "source": [
        "import numpy as np\n",
        "import sklearn\n",
        "\n",
        "from sklearn.datasets import fetch_california_housing\n",
        "housing = fetch_california_housing()\n",
        "\n",
        "from sklearn.model_selection import train_test_split\n",
        "X_train, X_test, y_train, y_test = train_test_split(housing.data, housing.target, test_size=0.3, random_state = 1)"
      ]
    },
    {
      "cell_type": "code",
      "execution_count": null,
      "metadata": {
        "colab": {
          "base_uri": "https://localhost:8080/"
        },
        "id": "uJeSEDcwmuut",
        "outputId": "d330934a-0cf4-43ec-b1b1-acdd0f7849d8"
      },
      "outputs": [
        {
          "data": {
            "text/plain": [
              "0.5951040704728554"
            ]
          },
          "execution_count": 7,
          "metadata": {},
          "output_type": "execute_result"
        }
      ],
      "source": [
        "from sklearn.preprocessing import StandardScaler\n",
        "\n",
        "scaler = StandardScaler(with_mean=True, with_std=True)\n",
        "X_train_norm =scaler.fit_transform(X_train)\n",
        "X_test_norm = scaler.transform(X_test)\n",
        "\n",
        "from sklearn.model_selection import GridSearchCV\n",
        "from sklearn.linear_model import SGDRegressor\n",
        "\n",
        "sgdregressor = SGDRegressor(random_state = 1)\n",
        "\n",
        "sgdr_model = GridSearchCV(sgdregressor,\n",
        "                        {'loss':['squared_error', 'huber'],\n",
        "                          'penalty':['l2','l1'],\n",
        "                          'alpha':[0.1,0.01,0.001],\n",
        "                          'max_iter':[1000,2000,5000]\n",
        "                          } ,\n",
        "                        cv = 4, \n",
        "                        return_train_score = True)\n",
        "sgdr_model.fit(X_train_norm, y_train)\n",
        "score = sgdr_model.score(X_test_norm,y_test)\n",
        "score"
      ]
    },
    {
      "cell_type": "code",
      "execution_count": null,
      "metadata": {
        "colab": {
          "base_uri": "https://localhost:8080/"
        },
        "id": "GSbfrGiMq3E5",
        "outputId": "6162813b-1111-4e35-afa2-98cf39ce23b9"
      },
      "outputs": [
        {
          "data": {
            "text/plain": [
              "{'alpha': 0.01, 'loss': 'squared_error', 'max_iter': 1000, 'penalty': 'l1'}"
            ]
          },
          "execution_count": 8,
          "metadata": {},
          "output_type": "execute_result"
        }
      ],
      "source": [
        "sgdr_model.best_params_"
      ]
    },
    {
      "cell_type": "markdown",
      "metadata": {
        "id": "TC8f0QounWCM"
      },
      "source": [
        "#Question 3- Graded\n",
        "\n",
        "Write a code to predict the house price of California Housing dataset using GridSearchCV.\n",
        "\n",
        "Write your code based on the following keypoints:\n",
        "- Split the California housing dataset into train and test set with 70:30 ratio with `random_state = 1`.\n",
        "- Import StandardScaler for scaling X_train and X_test to X_train_norm and X_test_norm `with_mean = True` and `with_std = True`\n",
        "- Pass Ridge Regression Model through GridSearchCV\n",
        "- Hyperparamter tuning to be done over\n",
        "  - `alpha` as 0.5,0.1,0.05,0.01,0.005,0.001\n",
        "  - With or without intercept\n",
        "- Cross Validation = 4\n",
        "- Train the 'model' and compute the 'score' on test data\n",
        "\n",
        "Question 1: Enter the value of the 'score'. (Enter your answer in four decimal places)\n",
        "\n",
        "(NAT) **Answer: 0.5971 (Range: 0.5970-0.5980)**\n",
        "\n",
        "Question 2: Enter the value of the best `alpha` obtained.\n",
        "\n",
        "(NAT) **Answer: 0.5**"
      ]
    },
    {
      "cell_type": "markdown",
      "metadata": {
        "id": "VHwwXS_siCIt"
      },
      "source": [
        "**Solution**"
      ]
    },
    {
      "cell_type": "code",
      "execution_count": null,
      "metadata": {
        "id": "BLXU6jTPnWCO"
      },
      "outputs": [],
      "source": [
        "import numpy as np\n",
        "import sklearn\n",
        "\n",
        "from sklearn.datasets import fetch_california_housing\n",
        "housing = fetch_california_housing()\n",
        "\n",
        "from sklearn.model_selection import train_test_split\n",
        "X_train, X_test, y_train, y_test = train_test_split(housing.data, housing.target, test_size=0.3, random_state = 1)"
      ]
    },
    {
      "cell_type": "code",
      "execution_count": null,
      "metadata": {
        "id": "r8SRd_NbnWCP"
      },
      "outputs": [],
      "source": [
        "def compute_score(X_train, y_train, X_test, y_test):\n",
        "  #Your code starts here:\n",
        "  from sklearn.preprocessing import StandardScaler\n",
        "  \n",
        "  scaler = StandardScaler(with_mean=True, with_std=True)\n",
        "  X_train_norm =scaler.fit_transform(X_train)\n",
        "  X_test_norm = scaler.transform(X_test)\n",
        "\n",
        "  from sklearn.model_selection import GridSearchCV\n",
        "  from sklearn.linear_model import Ridge\n",
        "\n",
        "  ridge = Ridge()\n",
        "\n",
        "  ridge_model = GridSearchCV(ridge,\n",
        "                        {'fit_intercept':[True,False],\n",
        "                          'alpha':[0.5,0.1,0.05,0.01,0.005,0.001]\n",
        "                         } ,\n",
        "                        cv = 4, \n",
        "                        )\n",
        "  ridge_model.fit(X_train_norm, y_train)\n",
        "  score = ridge_model.score(X_test_norm,y_test)\n",
        "  print(ridge_model.best_params_)\n",
        "  return score\n",
        "  #Your code ends here\n",
        "  \n",
        "  #pass"
      ]
    },
    {
      "cell_type": "code",
      "execution_count": null,
      "metadata": {
        "colab": {
          "base_uri": "https://localhost:8080/"
        },
        "id": "VtjcNGSEifYV",
        "outputId": "02490a5b-e5f2-4a16-e331-e77c37872726"
      },
      "outputs": [
        {
          "name": "stdout",
          "output_type": "stream",
          "text": [
            "{'alpha': 0.5, 'fit_intercept': True}\n",
            "0.5971450612248769\n"
          ]
        }
      ],
      "source": [
        "score = compute_score(X_train, y_train, X_test, y_test)\n",
        "print(score)"
      ]
    },
    {
      "cell_type": "markdown",
      "metadata": {
        "id": "q3Bt5c2BnWQ3"
      },
      "source": [
        "#Question 4- Graded\n",
        "\n",
        "Write a code to predict the house price of California Housing dataset using GridSearchCV.\n",
        "\n",
        "Write your code based on the following keypoints:\n",
        "- Split the California housing dataset into train and test set with 60:40 ratio with `random_state = 1`.\n",
        "- Import StandardScaler for scaling X_train and X_test to X_train_norm and X_test_norm `with_mean = True` and `with_std = True`\n",
        "- Pass Lasso Model through GridSearchCV\n",
        "- Hyperparamter tuning to be done over\n",
        "  - `alpha` as 0.5,0.1,0.05,0.01,0.005,0.001\n",
        "  - With or without intercept\n",
        "- Cross Validation = 6\n",
        "- Train the 'model' and compute the 'score' on test data\n",
        "\n",
        "Question 1: (Multiple select) \n",
        "\n",
        "Which of the following is the 'score' computed by your code?\n",
        "\n",
        "(a) 0.6065831805608592\n",
        "\n",
        "(b) 0.806583116745592\n",
        "\n",
        "(c) 0.1224876959714506\n",
        "\n",
        "(d) 0.1214876325845632\n",
        "\n",
        "(MCQ) **Answer: (Option a)**\n",
        "\n",
        "Question 2: Enter the value of the best `alpha` obtained.\n",
        "\n",
        "(NAT) **Answer: 0.001**\n"
      ]
    },
    {
      "cell_type": "markdown",
      "metadata": {
        "id": "6iuPwhncjJN0"
      },
      "source": [
        "**Solution**"
      ]
    },
    {
      "cell_type": "code",
      "execution_count": null,
      "metadata": {
        "id": "JSheW7HrnWQ6"
      },
      "outputs": [],
      "source": [
        "import numpy as np\n",
        "import sklearn\n",
        "\n",
        "from sklearn.datasets import fetch_california_housing\n",
        "housing = fetch_california_housing()\n",
        "\n",
        "from sklearn.model_selection import train_test_split\n",
        "X_train, X_test, y_train, y_test = train_test_split(housing.data, housing.target, test_size=0.4, random_state = 1)"
      ]
    },
    {
      "cell_type": "code",
      "execution_count": null,
      "metadata": {
        "id": "NBvfzeWunWQ8"
      },
      "outputs": [],
      "source": [
        "def compute_score(X_train, y_train, X_test, y_test):\n",
        "  #Your code starts here:\n",
        "  from sklearn.preprocessing import StandardScaler\n",
        "\n",
        "  scaler = StandardScaler(with_mean=True, with_std=True)\n",
        "  X_train_norm =scaler.fit_transform(X_train)\n",
        "  X_test_norm = scaler.transform(X_test)\n",
        "\n",
        "  from sklearn.model_selection import RandomizedSearchCV\n",
        "  from sklearn.linear_model import Lasso\n",
        "\n",
        "  lasso_model = Lasso()\n",
        "\n",
        "  lasso_model = RandomizedSearchCV(lasso_model,\n",
        "                        {'fit_intercept':[True,False],\n",
        "                          'alpha':[1,0.1,0.01,0.001]\n",
        "                          } ,\n",
        "                        cv = 6, \n",
        "                        )\n",
        "  lasso_model.fit(X_train_norm, y_train)\n",
        "  score = lasso_model.score(X_test_norm,y_test)\n",
        "  print(lasso_model.best_params_)\n",
        "  return score\n",
        "  #Your code ends here\n",
        "\n",
        "  pass"
      ]
    },
    {
      "cell_type": "code",
      "execution_count": null,
      "metadata": {
        "colab": {
          "base_uri": "https://localhost:8080/"
        },
        "id": "OcYaKOglkUVW",
        "outputId": "08d8f4ce-b6f4-4e0f-c443-7e08b99378ac"
      },
      "outputs": [
        {
          "name": "stderr",
          "output_type": "stream",
          "text": [
            "/usr/local/lib/python3.7/dist-packages/sklearn/model_selection/_search.py:296: UserWarning: The total space of parameters 8 is smaller than n_iter=10. Running 8 iterations. For exhaustive searches, use GridSearchCV.\n",
            "  UserWarning,\n"
          ]
        },
        {
          "name": "stdout",
          "output_type": "stream",
          "text": [
            "{'fit_intercept': True, 'alpha': 0.001}\n",
            "0.6065831805608592\n"
          ]
        }
      ],
      "source": [
        "score = compute_score(X_train, y_train, X_test, y_test)\n",
        "print(score)"
      ]
    }
  ],
  "metadata": {
    "colab": {
      "collapsed_sections": [],
      "name": "MLP week 4 programming questions_27_Dec_2021.ipynb",
      "provenance": [],
      "toc_visible": true
    },
    "kernelspec": {
      "display_name": "Python 3",
      "name": "python3"
    },
    "language_info": {
      "name": "python"
    }
  },
  "nbformat": 4,
  "nbformat_minor": 0
}
