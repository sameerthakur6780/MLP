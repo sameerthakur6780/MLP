{
  "nbformat": 4,
  "nbformat_minor": 0,
  "metadata": {
    "colab": {
      "name": "MLP Week 8 programming Questions.ipynb",
      "provenance": [],
      "collapsed_sections": [],
      "toc_visible": true
    },
    "kernelspec": {
      "name": "python3",
      "display_name": "Python 3"
    },
    "language_info": {
      "name": "python"
    }
  },
  "cells": [
    {
      "cell_type": "markdown",
      "source": [
        "#Practice Questions"
      ],
      "metadata": {
        "id": "Uf7AKldUmzEZ"
      }
    },
    {
      "cell_type": "markdown",
      "metadata": {
        "id": "fa5SuynhV24d"
      },
      "source": [
        "# Question 1\n",
        "Write a function `compute_score(X_train, y_train, X_test, y_test)` to do the following on the `Iris` dataset-\n",
        "\n",
        "Write your code keeping in mind:\n",
        "- Split the Iris dataset into train and test set with 70:30 ratio \n",
        "- Import svm.SVC as 'model'\n",
        "- kernel as 'rbf', regularization parameter as 20 and gamma as 'auto'\n",
        "-Take `random_state=42`.\n",
        "- Train the model using trining data and predict the computed model's score using test data.\n",
        "\n",
        "Which of the following options is the computed score?\n",
        "\n",
        "(a) -1.0\n",
        "\n",
        "(b) -0.5\n",
        "\n",
        "(c) 1.0\n",
        "\n",
        "(d) 0.5\n",
        "\n",
        "\n",
        "**Option c**\n"
      ]
    },
    {
      "cell_type": "code",
      "execution_count": null,
      "metadata": {
        "id": "bstq55ZXxiOh"
      },
      "outputs": [],
      "source": [
        "import numpy as np\n",
        "from sklearn import svm, datasets\n",
        "import json\n",
        "import random\n",
        "np.random.seed(42)\n",
        "iris = datasets.load_iris()\n",
        "from sklearn.model_selection import train_test_split"
      ]
    },
    {
      "cell_type": "code",
      "source": [
        "X_train, X_test, y_train, y_test = train_test_split(iris.data, iris.target, test_size=0.3)\n",
        "def COMPUTE_SCORE(X_train, y_train, X_test, y_test):\n",
        "  model1 = svm.SVC(kernel='rbf',C=20,gamma='auto')\n",
        "  model1.fit(X_train,y_train)\n",
        "  score1 = model1.score(X_test, y_test)\n",
        "  return score1\n",
        "\n",
        "score1 =COMPUTE_SCORE(X_train, y_train, X_test, y_test)\n",
        "print(score1)"
      ],
      "metadata": {
        "colab": {
          "base_uri": "https://localhost:8080/"
        },
        "id": "qZoY-pWsUxII",
        "outputId": "71c97774-9dfc-4da8-885b-9324a8bff69f"
      },
      "execution_count": null,
      "outputs": [
        {
          "output_type": "stream",
          "name": "stdout",
          "text": [
            "1.0\n"
          ]
        }
      ]
    },
    {
      "cell_type": "markdown",
      "source": [
        "#Question 2\n",
        "In 'Question 1', apply a pipeline containing a `MinMaxScaler()`function called`Scaler` and a `svm.svc()` called `classifier`with the parameters : `kernel='linear', decision_function_shape='ovr', C=1, class_weight=None`. Calculate the precision value and f1 score and mark the correct option from the list below.\n",
        "\n",
        "(a) 1.0, 1.0\n",
        "\n",
        "(b) 0.8, 0.8\n",
        "\n",
        "(c) 0.99, 0.99\n",
        "\n",
        "(d) 0.97, 0.87\n",
        "\n",
        "**Option a**\n"
      ],
      "metadata": {
        "id": "ynUWXI4HpGhQ"
      }
    },
    {
      "cell_type": "code",
      "source": [
        "from sklearn.pipeline import Pipeline\n",
        "from sklearn import metrics\n",
        "from sklearn import svm\n",
        "from sklearn.svm import LinearSVC\n",
        "from sklearn.preprocessing import StandardScaler, MinMaxScaler\n",
        "pipe_1 = Pipeline([('scaler', MinMaxScaler()),\n",
        "                         (\"classifier\", svm.SVC(kernel='linear', decision_function_shape='ovr', C=1, class_weight=None))])\n",
        "\n",
        "# Fit the estimator , pipeline\n",
        "\n",
        "pipe_1.fit(X_train,y_train)"
      ],
      "metadata": {
        "colab": {
          "base_uri": "https://localhost:8080/"
        },
        "id": "GPXXVTonoN0o",
        "outputId": "062e9ccb-dd7e-49cb-abee-537b6bf5945b"
      },
      "execution_count": null,
      "outputs": [
        {
          "output_type": "execute_result",
          "data": {
            "text/plain": [
              "Pipeline(steps=[('scaler', MinMaxScaler()),\n",
              "                ('classifier', SVC(C=1, kernel='linear'))])"
            ]
          },
          "metadata": {},
          "execution_count": 4
        }
      ]
    },
    {
      "cell_type": "code",
      "source": [
        "\n",
        "from sklearn.metrics import precision_score, recall_score, f1_score\n",
        "y_pred = pipe_1.predict(X_test)\n",
        "precisionScore = precision_score(y_test, y_pred, average='micro')\n",
        "recallSscore = recall_score(y_test, y_pred, average='micro')\n",
        "f1Score = f1_score(y_test, y_pred, average='micro')\n",
        "\n",
        "print(\"Precision: {:.2f} \".format(precisionScore))\n",
        "print(\"Recall: {:.2f} \".format(recallSscore))\n",
        "print(\"f1_Score: {:.2f} \".format(f1Score))"
      ],
      "metadata": {
        "colab": {
          "base_uri": "https://localhost:8080/"
        },
        "id": "zYZPLClOnT9y",
        "outputId": "239a2011-b0a5-46e1-c157-2a9082d1b348"
      },
      "execution_count": null,
      "outputs": [
        {
          "output_type": "stream",
          "name": "stdout",
          "text": [
            "Precision: 1.00 \n",
            "Recall: 1.00 \n",
            "f1_Score: 1.00 \n"
          ]
        }
      ]
    },
    {
      "cell_type": "markdown",
      "source": [
        ""
      ],
      "metadata": {
        "id": "4pViT2sDNp3y"
      }
    },
    {
      "cell_type": "markdown",
      "source": [
        "#Question 3\n",
        "\n",
        "Import the `iris` dataset and drop the rows where `class=Iris-versicolor`. Apply a pipeline containing a `MinMaxScaler()`function called`Scaler` and a `svm.svc()` called `classifier`. Split the `iris` dataset into 50:50 ratio with `random_state=0`. Mark the correct recall value from the given options.\n",
        "\n",
        "(a) 1.00\n",
        "\n",
        "(b) 0.22\n",
        "\n",
        "(C) 0.96\n",
        "\n",
        "(d) 2.33\n",
        "\n",
        "**Option a**\n",
        "\n"
      ],
      "metadata": {
        "id": "pUdGVRIiH1a7"
      }
    },
    {
      "cell_type": "code",
      "source": [
        "import pandas as pd\n",
        "import matplotlib.pyplot as plt\n",
        "import seaborn as sns\n",
        "import numpy as np\n",
        "from sklearn import datasets\n",
        "from pandas.plotting import scatter_matrix"
      ],
      "metadata": {
        "id": "VqWh05vWJL9R"
      },
      "execution_count": null,
      "outputs": []
    },
    {
      "cell_type": "code",
      "source": [
        "# Import the libraries for performing classification\n",
        "from sklearn import svm\n",
        "from sklearn.svm import LinearSVC\n",
        "from sklearn.metrics import confusion_matrix, ConfusionMatrixDisplay\n",
        "from sklearn.metrics import classification_report\n",
        "from sklearn.metrics import plot_roc_curve\n",
        "from sklearn.metrics import roc_auc_score\n",
        "from sklearn.preprocessing import StandardScaler, MinMaxScaler\n",
        "from sklearn.pipeline import Pipeline\n",
        "from sklearn import metrics\n",
        "from sklearn.metrics import plot_confusion_matrix\n",
        "from sklearn.model_selection import cross_val_score"
      ],
      "metadata": {
        "id": "T0-XAzDfJM8p"
      },
      "execution_count": null,
      "outputs": []
    },
    {
      "cell_type": "code",
      "source": [
        "#Define the column names\n",
        "col_name=[\"sepal_length_in_cm\", \"sepal_width_in_cm\",\"petal_length_in_cm\",\"petal_width_in_cm\", \"class\"]\n",
        "\n",
        "#Read the dataset\n",
        "df = pd.read_csv(\"https://archive.ics.uci.edu/ml/machine-learning-databases/iris/iris.data\", header = None, names= col_name)"
      ],
      "metadata": {
        "id": "_RiYPuXFJM8q"
      },
      "execution_count": null,
      "outputs": []
    },
    {
      "cell_type": "code",
      "source": [
        "data = df\n",
        "# get names of indexes for which column 'class' has value 'Iris-setosa'\n",
        "index_names = data[ data[\"class\"] == 'Iris-versicolor' ].index\n",
        "  \n",
        "# drop these row indexes\n",
        "# from dataFrame\n",
        "data.drop(index_names, inplace = True)\n",
        "  \n",
        "data"
      ],
      "metadata": {
        "colab": {
          "base_uri": "https://localhost:8080/",
          "height": 423
        },
        "outputId": "08ab745c-3934-4bb1-b99f-12404a25e70c",
        "id": "GagZJsV8JM8q"
      },
      "execution_count": null,
      "outputs": [
        {
          "output_type": "execute_result",
          "data": {
            "text/html": [
              "\n",
              "  <div id=\"df-1eb8b97c-d9c5-4a4c-a1c0-6a7c3ab5ed50\">\n",
              "    <div class=\"colab-df-container\">\n",
              "      <div>\n",
              "<style scoped>\n",
              "    .dataframe tbody tr th:only-of-type {\n",
              "        vertical-align: middle;\n",
              "    }\n",
              "\n",
              "    .dataframe tbody tr th {\n",
              "        vertical-align: top;\n",
              "    }\n",
              "\n",
              "    .dataframe thead th {\n",
              "        text-align: right;\n",
              "    }\n",
              "</style>\n",
              "<table border=\"1\" class=\"dataframe\">\n",
              "  <thead>\n",
              "    <tr style=\"text-align: right;\">\n",
              "      <th></th>\n",
              "      <th>sepal_length_in_cm</th>\n",
              "      <th>sepal_width_in_cm</th>\n",
              "      <th>petal_length_in_cm</th>\n",
              "      <th>petal_width_in_cm</th>\n",
              "      <th>class</th>\n",
              "    </tr>\n",
              "  </thead>\n",
              "  <tbody>\n",
              "    <tr>\n",
              "      <th>0</th>\n",
              "      <td>5.1</td>\n",
              "      <td>3.5</td>\n",
              "      <td>1.4</td>\n",
              "      <td>0.2</td>\n",
              "      <td>Iris-setosa</td>\n",
              "    </tr>\n",
              "    <tr>\n",
              "      <th>1</th>\n",
              "      <td>4.9</td>\n",
              "      <td>3.0</td>\n",
              "      <td>1.4</td>\n",
              "      <td>0.2</td>\n",
              "      <td>Iris-setosa</td>\n",
              "    </tr>\n",
              "    <tr>\n",
              "      <th>2</th>\n",
              "      <td>4.7</td>\n",
              "      <td>3.2</td>\n",
              "      <td>1.3</td>\n",
              "      <td>0.2</td>\n",
              "      <td>Iris-setosa</td>\n",
              "    </tr>\n",
              "    <tr>\n",
              "      <th>3</th>\n",
              "      <td>4.6</td>\n",
              "      <td>3.1</td>\n",
              "      <td>1.5</td>\n",
              "      <td>0.2</td>\n",
              "      <td>Iris-setosa</td>\n",
              "    </tr>\n",
              "    <tr>\n",
              "      <th>4</th>\n",
              "      <td>5.0</td>\n",
              "      <td>3.6</td>\n",
              "      <td>1.4</td>\n",
              "      <td>0.2</td>\n",
              "      <td>Iris-setosa</td>\n",
              "    </tr>\n",
              "    <tr>\n",
              "      <th>...</th>\n",
              "      <td>...</td>\n",
              "      <td>...</td>\n",
              "      <td>...</td>\n",
              "      <td>...</td>\n",
              "      <td>...</td>\n",
              "    </tr>\n",
              "    <tr>\n",
              "      <th>145</th>\n",
              "      <td>6.7</td>\n",
              "      <td>3.0</td>\n",
              "      <td>5.2</td>\n",
              "      <td>2.3</td>\n",
              "      <td>Iris-virginica</td>\n",
              "    </tr>\n",
              "    <tr>\n",
              "      <th>146</th>\n",
              "      <td>6.3</td>\n",
              "      <td>2.5</td>\n",
              "      <td>5.0</td>\n",
              "      <td>1.9</td>\n",
              "      <td>Iris-virginica</td>\n",
              "    </tr>\n",
              "    <tr>\n",
              "      <th>147</th>\n",
              "      <td>6.5</td>\n",
              "      <td>3.0</td>\n",
              "      <td>5.2</td>\n",
              "      <td>2.0</td>\n",
              "      <td>Iris-virginica</td>\n",
              "    </tr>\n",
              "    <tr>\n",
              "      <th>148</th>\n",
              "      <td>6.2</td>\n",
              "      <td>3.4</td>\n",
              "      <td>5.4</td>\n",
              "      <td>2.3</td>\n",
              "      <td>Iris-virginica</td>\n",
              "    </tr>\n",
              "    <tr>\n",
              "      <th>149</th>\n",
              "      <td>5.9</td>\n",
              "      <td>3.0</td>\n",
              "      <td>5.1</td>\n",
              "      <td>1.8</td>\n",
              "      <td>Iris-virginica</td>\n",
              "    </tr>\n",
              "  </tbody>\n",
              "</table>\n",
              "<p>100 rows × 5 columns</p>\n",
              "</div>\n",
              "      <button class=\"colab-df-convert\" onclick=\"convertToInteractive('df-1eb8b97c-d9c5-4a4c-a1c0-6a7c3ab5ed50')\"\n",
              "              title=\"Convert this dataframe to an interactive table.\"\n",
              "              style=\"display:none;\">\n",
              "        \n",
              "  <svg xmlns=\"http://www.w3.org/2000/svg\" height=\"24px\"viewBox=\"0 0 24 24\"\n",
              "       width=\"24px\">\n",
              "    <path d=\"M0 0h24v24H0V0z\" fill=\"none\"/>\n",
              "    <path d=\"M18.56 5.44l.94 2.06.94-2.06 2.06-.94-2.06-.94-.94-2.06-.94 2.06-2.06.94zm-11 1L8.5 8.5l.94-2.06 2.06-.94-2.06-.94L8.5 2.5l-.94 2.06-2.06.94zm10 10l.94 2.06.94-2.06 2.06-.94-2.06-.94-.94-2.06-.94 2.06-2.06.94z\"/><path d=\"M17.41 7.96l-1.37-1.37c-.4-.4-.92-.59-1.43-.59-.52 0-1.04.2-1.43.59L10.3 9.45l-7.72 7.72c-.78.78-.78 2.05 0 2.83L4 21.41c.39.39.9.59 1.41.59.51 0 1.02-.2 1.41-.59l7.78-7.78 2.81-2.81c.8-.78.8-2.07 0-2.86zM5.41 20L4 18.59l7.72-7.72 1.47 1.35L5.41 20z\"/>\n",
              "  </svg>\n",
              "      </button>\n",
              "      \n",
              "  <style>\n",
              "    .colab-df-container {\n",
              "      display:flex;\n",
              "      flex-wrap:wrap;\n",
              "      gap: 12px;\n",
              "    }\n",
              "\n",
              "    .colab-df-convert {\n",
              "      background-color: #E8F0FE;\n",
              "      border: none;\n",
              "      border-radius: 50%;\n",
              "      cursor: pointer;\n",
              "      display: none;\n",
              "      fill: #1967D2;\n",
              "      height: 32px;\n",
              "      padding: 0 0 0 0;\n",
              "      width: 32px;\n",
              "    }\n",
              "\n",
              "    .colab-df-convert:hover {\n",
              "      background-color: #E2EBFA;\n",
              "      box-shadow: 0px 1px 2px rgba(60, 64, 67, 0.3), 0px 1px 3px 1px rgba(60, 64, 67, 0.15);\n",
              "      fill: #174EA6;\n",
              "    }\n",
              "\n",
              "    [theme=dark] .colab-df-convert {\n",
              "      background-color: #3B4455;\n",
              "      fill: #D2E3FC;\n",
              "    }\n",
              "\n",
              "    [theme=dark] .colab-df-convert:hover {\n",
              "      background-color: #434B5C;\n",
              "      box-shadow: 0px 1px 3px 1px rgba(0, 0, 0, 0.15);\n",
              "      filter: drop-shadow(0px 1px 2px rgba(0, 0, 0, 0.3));\n",
              "      fill: #FFFFFF;\n",
              "    }\n",
              "  </style>\n",
              "\n",
              "      <script>\n",
              "        const buttonEl =\n",
              "          document.querySelector('#df-1eb8b97c-d9c5-4a4c-a1c0-6a7c3ab5ed50 button.colab-df-convert');\n",
              "        buttonEl.style.display =\n",
              "          google.colab.kernel.accessAllowed ? 'block' : 'none';\n",
              "\n",
              "        async function convertToInteractive(key) {\n",
              "          const element = document.querySelector('#df-1eb8b97c-d9c5-4a4c-a1c0-6a7c3ab5ed50');\n",
              "          const dataTable =\n",
              "            await google.colab.kernel.invokeFunction('convertToInteractive',\n",
              "                                                     [key], {});\n",
              "          if (!dataTable) return;\n",
              "\n",
              "          const docLinkHtml = 'Like what you see? Visit the ' +\n",
              "            '<a target=\"_blank\" href=https://colab.research.google.com/notebooks/data_table.ipynb>data table notebook</a>'\n",
              "            + ' to learn more about interactive tables.';\n",
              "          element.innerHTML = '';\n",
              "          dataTable['output_type'] = 'display_data';\n",
              "          await google.colab.output.renderOutput(dataTable, element);\n",
              "          const docLink = document.createElement('div');\n",
              "          docLink.innerHTML = docLinkHtml;\n",
              "          element.appendChild(docLink);\n",
              "        }\n",
              "      </script>\n",
              "    </div>\n",
              "  </div>\n",
              "  "
            ],
            "text/plain": [
              "     sepal_length_in_cm  sepal_width_in_cm  ...  petal_width_in_cm           class\n",
              "0                   5.1                3.5  ...                0.2     Iris-setosa\n",
              "1                   4.9                3.0  ...                0.2     Iris-setosa\n",
              "2                   4.7                3.2  ...                0.2     Iris-setosa\n",
              "3                   4.6                3.1  ...                0.2     Iris-setosa\n",
              "4                   5.0                3.6  ...                0.2     Iris-setosa\n",
              "..                  ...                ...  ...                ...             ...\n",
              "145                 6.7                3.0  ...                2.3  Iris-virginica\n",
              "146                 6.3                2.5  ...                1.9  Iris-virginica\n",
              "147                 6.5                3.0  ...                2.0  Iris-virginica\n",
              "148                 6.2                3.4  ...                2.3  Iris-virginica\n",
              "149                 5.9                3.0  ...                1.8  Iris-virginica\n",
              "\n",
              "[100 rows x 5 columns]"
            ]
          },
          "metadata": {},
          "execution_count": 9
        }
      ]
    },
    {
      "cell_type": "code",
      "source": [
        "# Separatre the input and output feature values\n",
        "\n",
        "X = data.iloc[:,:-1]\n",
        "y = data.iloc[:,-1].values\n",
        "\n",
        "from sklearn.model_selection import train_test_split\n",
        "X_train, X_test, y_train, y_test = train_test_split(X, y, test_size = 0.5, random_state = 0)\n",
        "\n",
        "print('Shape of training data',X_train.shape)\n",
        "print('Shape of training labels', y_train.shape)\n",
        "print('Shape of testing data', X_test.shape)\n",
        "print('Shape of testing labels',y_test.shape)"
      ],
      "metadata": {
        "colab": {
          "base_uri": "https://localhost:8080/"
        },
        "outputId": "1186d766-7856-4255-f621-9d70d1bb6a1b",
        "id": "zKqZSgotJM8r"
      },
      "execution_count": null,
      "outputs": [
        {
          "output_type": "stream",
          "name": "stdout",
          "text": [
            "Shape of training data (50, 4)\n",
            "Shape of training labels (50,)\n",
            "Shape of testing data (50, 4)\n",
            "Shape of testing labels (50,)\n"
          ]
        }
      ]
    },
    {
      "cell_type": "code",
      "source": [
        "X=np.array(X_train)\n",
        "y=np.array(y_train)\n",
        "# Let us consider sepal length and sepal width\n",
        "X=X[:,(0,1)]\n",
        "X.shape"
      ],
      "metadata": {
        "colab": {
          "base_uri": "https://localhost:8080/"
        },
        "outputId": "d1c9d03c-8222-4c62-daf2-f8310a15a749",
        "id": "qyVg6SVSJM8r"
      },
      "execution_count": null,
      "outputs": [
        {
          "output_type": "execute_result",
          "data": {
            "text/plain": [
              "(50, 2)"
            ]
          },
          "metadata": {},
          "execution_count": 11
        }
      ]
    },
    {
      "cell_type": "code",
      "source": [
        "# Create a pipeline\n",
        "\n",
        "pipe_2 = Pipeline([('scaler', MinMaxScaler()),\n",
        "                         (\"classifier\", svm.SVC(kernel='linear', decision_function_shape='ovr', C=1, class_weight=None))])\n",
        "\n",
        "# Fit the estimator , pipeline\n",
        "\n",
        "pipe_2.fit(X_train,y_train)\n",
        "\n",
        "# Get the predictions\n",
        "\n",
        "y_pred = pipe_2.predict(X_test)"
      ],
      "metadata": {
        "id": "25JkKikqJM8r"
      },
      "execution_count": null,
      "outputs": []
    },
    {
      "cell_type": "code",
      "source": [
        "from sklearn.metrics import precision_score, recall_score, f1_score\n",
        "\n",
        "precisionScore = precision_score(y_test, y_pred, average='micro')\n",
        "recallSscore = recall_score(y_test, y_pred, average='micro')\n",
        "f1Score = f1_score(y_test, y_pred, average='micro')\n",
        "\n",
        "print(\"Precision: {:.2f} \".format(precisionScore))\n",
        "print(\"Recall: {:.2f} \".format(recallSscore))\n",
        "print(\"f1_Score: {:.2f} \".format(f1Score))"
      ],
      "metadata": {
        "colab": {
          "base_uri": "https://localhost:8080/"
        },
        "outputId": "394d4287-04f4-4568-8367-e230e5387531",
        "id": "yq1RqLkeJM8s"
      },
      "execution_count": null,
      "outputs": [
        {
          "output_type": "stream",
          "name": "stdout",
          "text": [
            "Precision: 1.00 \n",
            "Recall: 1.00 \n",
            "f1_Score: 1.00 \n"
          ]
        }
      ]
    },
    {
      "cell_type": "markdown",
      "source": [
        ""
      ],
      "metadata": {
        "id": "b2GdBQ0cNz7T"
      }
    },
    {
      "cell_type": "markdown",
      "source": [
        ""
      ],
      "metadata": {
        "id": "DOzlQdqwm67G"
      }
    },
    {
      "cell_type": "markdown",
      "metadata": {
        "id": "k0ZLqS_RV7yi"
      },
      "source": [
        "#Question 4\n",
        "\n",
        "Write the function `compute_score(X_train, y_train, X_test, y_test)` to do the following on the `Iris` dataset-\n",
        "\n",
        "Write your code keeping in mind:\n",
        "- Split the Iris dataset into train and test set with 70:30 ratio and `random_state=42`.\n",
        "- Import sklearn.svm.LinearSVC as 'model'\n",
        "- Consider loss function `loss=hinge`,`random_state=42` and `penalty=l2`.\n",
        "- Train the 'model' and mark the computed 'score'\n",
        "\n",
        "\n",
        "(a) 2.233333333333333\n",
        "\n",
        "(b)0.9777777777777777\n",
        "\n",
        "(c) 0.899999999999999\n",
        "\n",
        "(d) -2.23333333333333\n",
        "\n",
        "**Option b**"
      ]
    },
    {
      "cell_type": "code",
      "execution_count": null,
      "metadata": {
        "id": "tHYx1dwvZ7_3"
      },
      "outputs": [],
      "source": [
        "import numpy as np\n",
        "import pandas as pd\n",
        "from sklearn import svm, datasets\n",
        "iris = datasets.load_iris()\n",
        "from sklearn.model_selection import train_test_split\n",
        "#np.random.seed(42)"
      ]
    },
    {
      "cell_type": "code",
      "source": [
        "X_train, X_test, y_train, y_test = train_test_split(iris.data, iris.target, test_size=0.3,random_state=42)\n",
        "def COMPUTE_SCORE(X_train, y_train, X_test, y_test):\n",
        "  model1 = svm.LinearSVC(penalty='l2', loss='hinge')\n",
        "  model1.fit(X_train,y_train)\n",
        "  score1=model1.score(X_test, y_test)\n",
        "  return score1\n",
        "score1 =COMPUTE_SCORE(X_train, y_train, X_test, y_test)\n",
        "print(score1) "
      ],
      "metadata": {
        "colab": {
          "base_uri": "https://localhost:8080/"
        },
        "id": "Od6GNcvkg2QV",
        "outputId": "de137f2b-428e-49c4-ad8a-90bfeceb9a7e"
      },
      "execution_count": null,
      "outputs": [
        {
          "output_type": "stream",
          "name": "stdout",
          "text": [
            "0.9777777777777777\n"
          ]
        },
        {
          "output_type": "stream",
          "name": "stderr",
          "text": [
            "/usr/local/lib/python3.7/dist-packages/sklearn/svm/_base.py:1208: ConvergenceWarning: Liblinear failed to converge, increase the number of iterations.\n",
            "  ConvergenceWarning,\n"
          ]
        }
      ]
    },
    {
      "cell_type": "markdown",
      "metadata": {
        "id": "VMmw4XVVXmKK"
      },
      "source": [
        "#Question 5\n",
        "\n",
        "Write a function `hyperparameter_search`which accepts the Kernel and regularization parameter as inputs and returns the `avg_score`of the models with the below mentioned hyperparameters. \n",
        "- Split the Iris dataset into train and test set with 70:30 ratio \n",
        "- kernels = `['linear', 'rbf']`\n",
        "- Regularization `C = [5, 10,100]`\n",
        "- Cross Validation = 10\n",
        "-`random_state=42`\n",
        "\n",
        "Which of the following options give the `accuracy_score` for the `iris dataset`?\n",
        "\n",
        "(a) -1\n",
        "\n",
        "(b) -2\n",
        "\n",
        "(c) 1\n",
        "\n",
        "(d) 0.8\n",
        "\n",
        "**Option C**\n"
      ]
    },
    {
      "cell_type": "code",
      "execution_count": null,
      "metadata": {
        "id": "ZUZMVPyMO8Ca"
      },
      "outputs": [],
      "source": [
        "import numpy as np\n",
        "import pandas as pd\n",
        "import json\n",
        "import random\n",
        "from sklearn import svm, datasets\n",
        "from sklearn.model_selection import cross_val_score\n",
        "iris = datasets.load_iris()\n",
        "from sklearn.model_selection import train_test_split\n",
        "np.random.seed(42)\n",
        "X_train, X_test, y_train, y_test = train_test_split(iris.data, iris.target, test_size=0.3,random_state=42)\n",
        "\n"
      ]
    },
    {
      "cell_type": "code",
      "source": [
        ""
      ],
      "metadata": {
        "id": "sxhhjzM6JArQ"
      },
      "execution_count": null,
      "outputs": []
    },
    {
      "cell_type": "code",
      "execution_count": null,
      "metadata": {
        "id": "NR889IJcXohf",
        "colab": {
          "base_uri": "https://localhost:8080/"
        },
        "outputId": "31dd6e57-3bb8-4af0-cf87-be8e54ba078e"
      },
      "outputs": [
        {
          "output_type": "stream",
          "name": "stdout",
          "text": [
            "1.0\n"
          ]
        }
      ],
      "source": [
        "\n",
        "kernels = ['linear', 'rbf']\n",
        "C = [5, 10,100]\n",
        "\n",
        "def hyperparamater_search(kernels, C):\n",
        "\n",
        "#Your code starts here\n",
        "  \n",
        "  avg_score = []\n",
        "  for i in kernels:\n",
        "    for j in C:\n",
        "      scores = cross_val_score(svm.SVC(kernel=i,C=j,gamma='auto'),iris.data, iris.target, cv=10)\n",
        "      #avg_score[i + '_' + str(j)] = np.average(scores)\n",
        "      avg_score.append(scores)\n",
        "  avg_score=np.array(avg_score)   \n",
        "  return np.max(avg_score)\n",
        "  #return avg_score\n",
        "student_code = hyperparamater_search(kernels, C)\n",
        "print(student_code)\n"
      ]
    },
    {
      "cell_type": "markdown",
      "source": [
        "#Graded Questions"
      ],
      "metadata": {
        "id": "cHUtPH8kn7XX"
      }
    },
    {
      "cell_type": "markdown",
      "metadata": {
        "id": "bfcPNE5uXp3b"
      },
      "source": [
        "#Question 1\n",
        "\n",
        "Write a function `compute_GridSearchCV` which accepts the Kernel and regularization parameters as inputs and returns the Mean cross-validated score of the best_estimator, denoted with `best_score_` of the models with the below mentioned hyperparameters:\n",
        "- Split the Iris dataset into train and test set with 70:30 ratio \n",
        "- Import svm.SVC as 'model'\n",
        "- kernels = ['linear' , 'rbf']\n",
        "- Regularization = [1,15,25]\n",
        "- gamma = 'auto'\n",
        "- Cross Validation = 4\n",
        "- `random_state=0`\n",
        "\n",
        "(a) 0.9799075391180654\n",
        "\n",
        "(b) 0.8182475236540654\n",
        "\n",
        "(c) 0.7999999995540654\n",
        "\n",
        "(d) 0.1111111122223444\n",
        "\n",
        "\n",
        "**(Option a)**"
      ]
    },
    {
      "cell_type": "code",
      "source": [
        "import numpy as np\n",
        "import pandas as pd\n",
        "from sklearn import svm, datasets\n",
        "iris = datasets.load_iris()\n",
        "from sklearn.model_selection import train_test_split\n",
        "X_train, X_test, y_train, y_test = train_test_split(iris.data, iris.target, test_size=0.3,random_state = 0)"
      ],
      "metadata": {
        "id": "Hrrmi4R5uqw_"
      },
      "execution_count": null,
      "outputs": []
    },
    {
      "cell_type": "code",
      "source": [
        "import json\n",
        "import random\n",
        "\n",
        "np.random.seed(42)\n",
        "\n",
        "#generating code space\n",
        "\n",
        "# evaluating code space \n",
        "def COMPUTE_GridSearchCV(kernels, C):\n",
        "    from sklearn.model_selection import GridSearchCV\n",
        "    clf = GridSearchCV(svm.SVC(gamma='auto'), {\n",
        "    'C': [1,15,25],\n",
        "    'kernel': ['linear','rbf']\n",
        "    }, cv=4, return_train_score=False)\n",
        "    clf.fit(iris.data, iris.target)\n",
        "    return clf.best_score_"
      ],
      "metadata": {
        "id": "I5h_AP7-xLYZ"
      },
      "execution_count": null,
      "outputs": []
    },
    {
      "cell_type": "code",
      "source": [
        "kernels = ['linear', 'rbf']\n",
        "C = [1,15,25]\n",
        "actual_code = COMPUTE_GridSearchCV(kernels, C)\n",
        "print(actual_code)"
      ],
      "metadata": {
        "id": "TkCqKCAXxYgp",
        "colab": {
          "base_uri": "https://localhost:8080/"
        },
        "outputId": "2d75acd5-323a-4f31-f0b9-3a835089cb8f"
      },
      "execution_count": null,
      "outputs": [
        {
          "output_type": "stream",
          "name": "stdout",
          "text": [
            "0.9799075391180654\n"
          ]
        }
      ]
    },
    {
      "cell_type": "markdown",
      "source": [
        "# Question 2 and 3\n",
        "\n",
        "**Read the instructions given below to answer the two questions given below.**\n",
        "\n",
        "Split the `Social_Network_Ads` dataset (https://drive.google.com/file/d/1qUa1GlG4X4ZY_4E0e7jPR-z7AG7NIDbE/view?usp=sharing) into training and test set in 75:25 ratio.\n",
        "- Fit and transform the train and test set of the feature matrix by applying `StandardScaler` transformer.\n",
        "- Fit a linear SVM (with `random_state = 0`and `linear` kernel) to training data. \n",
        "\n",
        "**Question 2**\n",
        "\n",
        "The predicted data returns an `accuracy_score` on test data. Which of the following option represents the calculated `accuracy_score`?\n",
        "\n",
        "(a) 0.88\n",
        "\n",
        "(b) 0.99\n",
        "\n",
        "(c) 0.77\n",
        "\n",
        "(d)1.20\n",
        "\n",
        "**Option a**\n",
        "\n",
        "**Question 3**\n",
        "\n",
        "Calculate the confusion matrix obtained  from the above predicted data.\n",
        "\n",
        "(a) [[5  63]\n",
        " [ 7 25]]\n",
        "\n",
        "(b) [[63  5]\n",
        " [ 7 25]]\n",
        "\n",
        "(c) [[63  5]\n",
        " [ 25 7]]\n",
        "\n",
        "(d) [[5  63]\n",
        " [ 25 7]]\n",
        "\n",
        "**Option b**"
      ],
      "metadata": {
        "id": "vUIuKUdTUKG_"
      }
    },
    {
      "cell_type": "code",
      "source": [
        "import numpy as np\n",
        "import matplotlib.pyplot as plt\n",
        "import pandas as pd\n",
        "np.random.seed(42)"
      ],
      "metadata": {
        "id": "Dkt7vIUDUgE4"
      },
      "execution_count": null,
      "outputs": []
    },
    {
      "cell_type": "code",
      "source": [
        "dataset = pd.read_csv('Social_Network_Ads.csv')\n",
        "X = dataset.iloc[:, :-1].values\n",
        "y = dataset.iloc[:, -1].values"
      ],
      "metadata": {
        "id": "CJvy7b80UkJQ"
      },
      "execution_count": null,
      "outputs": []
    },
    {
      "cell_type": "code",
      "source": [
        "from sklearn.model_selection import train_test_split\n",
        "X_train, X_test, y_train, y_test = train_test_split(X, y, test_size = 0.25, random_state = 0)"
      ],
      "metadata": {
        "id": "CB2nYGGDVDoX"
      },
      "execution_count": null,
      "outputs": []
    },
    {
      "cell_type": "code",
      "source": [
        "from sklearn.preprocessing import StandardScaler\n",
        "sc = StandardScaler()\n",
        "X_train = sc.fit_transform(X_train)\n",
        "X_test = sc.fit_transform(X_test)"
      ],
      "metadata": {
        "id": "Jrh6BO1ffbiH"
      },
      "execution_count": null,
      "outputs": []
    },
    {
      "cell_type": "code",
      "source": [
        "from sklearn.svm import SVC\n",
        "classifier = SVC(kernel = 'linear', random_state = 0)\n",
        "classifier.fit(X_train, y_train)"
      ],
      "metadata": {
        "id": "0m0jrJ3VVZae",
        "colab": {
          "base_uri": "https://localhost:8080/"
        },
        "outputId": "e6e1505b-f7a8-4af9-a082-250c5c57b06b"
      },
      "execution_count": null,
      "outputs": [
        {
          "output_type": "execute_result",
          "data": {
            "text/plain": [
              "SVC(kernel='linear', random_state=0)"
            ]
          },
          "metadata": {},
          "execution_count": 25
        }
      ]
    },
    {
      "cell_type": "code",
      "source": [
        "y_pred = classifier.predict(X_test)\n",
        "from sklearn.metrics import confusion_matrix, accuracy_score\n",
        "cm = confusion_matrix(y_test, y_pred)\n",
        "print(cm)\n",
        "accuracy_score(y_test, y_pred)"
      ],
      "metadata": {
        "id": "IZIFcm1HWG2X",
        "colab": {
          "base_uri": "https://localhost:8080/"
        },
        "outputId": "868fc143-cf9a-43dd-f152-1790930fb4b1"
      },
      "execution_count": null,
      "outputs": [
        {
          "output_type": "stream",
          "name": "stdout",
          "text": [
            "[[63  5]\n",
            " [ 7 25]]\n"
          ]
        },
        {
          "output_type": "execute_result",
          "data": {
            "text/plain": [
              "0.88"
            ]
          },
          "metadata": {},
          "execution_count": 26
        }
      ]
    },
    {
      "cell_type": "markdown",
      "source": [
        "#Multiclass classification"
      ],
      "metadata": {
        "id": "KtEiyLHY2muJ"
      }
    },
    {
      "cell_type": "markdown",
      "source": [
        "#Questions 4 and 5\n",
        "\n",
        "**Question 4**\n",
        "\n",
        "From the MNIST dataset, consider the first 20,000 data samples as training data and the next 5,000 data samples as test data. Fit a pipeline with MinMaxScaler and a classifier with SVC, linear kernel, one vs rest decision_function_shape and `class_weight=None` to this dataset and answer the following questions.\n",
        "\n",
        "**What is the sum of the main diagonal elements of the confusion matrix?**\n",
        "\n",
        "(a) 4523\n",
        "\n",
        "(b) 4423\n",
        "\n",
        "(c) 4623\n",
        "\n",
        "(d) 4693\n",
        "\n",
        "**Option c**\n",
        "\n",
        "**Question 5**\n",
        "\n",
        "Which of the following are the correct values of precision, recall and f1_Score?\n",
        "\n",
        "(a) Precision: 0.90 \n",
        "Recall: 0.89 \n",
        "f1_Score: 0.90 \n",
        "\n",
        "(b) Precision: 0.99 \n",
        "Recall: 0.99 \n",
        "f1_Score: 0.99 \n",
        "\n",
        "(c) Precision: 0.92 \n",
        "Recall: 0.92 \n",
        "f1_Score: 0.92 \n",
        "\n",
        "(d) Precision: 0.14 \n",
        "Recall: 0.14 \n",
        "f1_Score: 0.14 \n",
        "\n",
        "**Option c**"
      ],
      "metadata": {
        "id": "Zm0ljvNs8jV4"
      }
    },
    {
      "cell_type": "code",
      "source": [
        "# Common imports\n",
        "import numpy as np\n",
        "import os\n",
        "import io\n",
        "import warnings\n",
        "\n",
        "#sklearn specific imports\n",
        "from sklearn.datasets import fetch_openml\n",
        "from sklearn.preprocessing import MinMaxScaler,StandardScaler\n",
        "from sklearn.pipeline import Pipeline\n",
        "from sklearn.dummy import DummyClassifier\n",
        "from sklearn.linear_model import Perceptron\n",
        "from sklearn.metrics import hinge_loss\n",
        "from sklearn.metrics import ConfusionMatrixDisplay, confusion_matrix, precision_recall_curve\n",
        "from sklearn.metrics import precision_score, recall_score, classification_report\n",
        "from sklearn.metrics import make_scorer\n",
        "from sklearn.model_selection import cross_validate, cross_val_predict,GridSearchCV\n",
        "from pprint import pprint\n",
        "\n",
        "# To plot pretty figures\n",
        "%matplotlib inline\n",
        "import matplotlib as mpl\n",
        "import matplotlib.pyplot as plt\n",
        "import seaborn as sns\n",
        "# Import the libraries for performing classification\n",
        "from sklearn import svm\n",
        "from sklearn.metrics import confusion_matrix, ConfusionMatrixDisplay\n",
        "from sklearn.metrics import classification_report\n",
        "from sklearn.metrics import plot_roc_curve\n",
        "from sklearn.metrics import roc_auc_score\n",
        "from sklearn.preprocessing import StandardScaler, MinMaxScaler\n",
        "from sklearn.pipeline import Pipeline\n",
        "from sklearn import metrics\n",
        "from sklearn.metrics import plot_confusion_matrix\n",
        "from sklearn.model_selection import cross_val_score\n",
        "#global matplotlib settings\n",
        "mpl.rc('figure',figsize=(8,6))\n",
        "mpl.rc('axes', labelsize=14)\n",
        "mpl.rc('xtick', labelsize=12)\n",
        "mpl.rc('ytick', labelsize=12)\n",
        "\n",
        "# to make this notebook's output stable across runs\n",
        "np.random.seed(42)"
      ],
      "metadata": {
        "id": "dqbk64iRoP84"
      },
      "execution_count": null,
      "outputs": []
    },
    {
      "cell_type": "code",
      "source": [
        "X,y= fetch_openml('mnist_784',version=1,return_X_y=True) \n",
        "#it returns Data and label as a pandas dataframe\n",
        "X = X.to_numpy()\n",
        "y = y.to_numpy()\n",
        "\n",
        "X_train = X[0:20000,:]\n",
        "X_test = X[20000:25000,:]\n",
        "y_train = y[0:20000]\n",
        "y_test = y[20000:25000]\n",
        "\n",
        "print(X_train.shape, X_test.shape, y_train.shape, y_test.shape)"
      ],
      "metadata": {
        "colab": {
          "base_uri": "https://localhost:8080/"
        },
        "id": "JLzQ-vFiALXi",
        "outputId": "d860b0e5-cc75-4d8b-cf27-806f1807d0e7"
      },
      "execution_count": null,
      "outputs": [
        {
          "output_type": "stream",
          "name": "stdout",
          "text": [
            "(20000, 784) (5000, 784) (20000,) (5000,)\n"
          ]
        }
      ]
    },
    {
      "cell_type": "code",
      "source": [
        "# Create a pipeline\n",
        "\n",
        "pipe_2 = Pipeline([('scaler', MinMaxScaler()),\n",
        "                         (\"classifier\", svm.SVC(kernel='linear', decision_function_shape='ovr', C=1, class_weight=None))])\n",
        "\n",
        "# Fit the estimator , pipeline\n",
        "\n",
        "pipe_2.fit(X_train,y_train)\n",
        "\n",
        "# Get the predictions\n",
        "\n",
        "y_pred = pipe_2.predict(X_test)\n",
        "\n",
        "cm = confusion_matrix(y_test, y_pred)\n",
        "print('Confusion matrix : \\n', cm)\n",
        "out = np.sum(np.diag(cm))\n",
        "out"
      ],
      "metadata": {
        "id": "Wlv78zZ521jm",
        "colab": {
          "base_uri": "https://localhost:8080/"
        },
        "outputId": "6f5e6def-b237-46c5-d23e-0b7ced5407c6"
      },
      "execution_count": null,
      "outputs": [
        {
          "output_type": "stream",
          "name": "stdout",
          "text": [
            "Confusion matrix : \n",
            " [[469   0   1   0   0   5   1   1   1   0]\n",
            " [  1 555   2   4   0   1   1   1   3   0]\n",
            " [  5   4 479   6   9   1   3   6   7   1]\n",
            " [  3   3  13 462   0  19   0   3   9   4]\n",
            " [  2   0   6   0 468   1   2   4   1  16]\n",
            " [ 14   0   0  18   2 405   3   2   7   9]\n",
            " [  1   2   2   0   6   9 471   0   0   0]\n",
            " [  0   2   4   1   7   1   0 483   0   6]\n",
            " [  3  10  11  15   0  19   6   3 396   3]\n",
            " [  3   6   1   2  21   0   0  26   2 435]]\n"
          ]
        },
        {
          "output_type": "execute_result",
          "data": {
            "text/plain": [
              "4623"
            ]
          },
          "metadata": {},
          "execution_count": 29
        }
      ]
    },
    {
      "cell_type": "code",
      "source": [
        "print(cm.shape)"
      ],
      "metadata": {
        "id": "32dA2KEa9MCI",
        "colab": {
          "base_uri": "https://localhost:8080/"
        },
        "outputId": "a68403b9-011a-4909-c268-995f5520feeb"
      },
      "execution_count": null,
      "outputs": [
        {
          "output_type": "stream",
          "name": "stdout",
          "text": [
            "(10, 10)\n"
          ]
        }
      ]
    },
    {
      "cell_type": "code",
      "source": [
        "from sklearn.metrics import precision_score, recall_score, f1_score\n",
        "\n",
        "precisionScore = precision_score(y_test, y_pred, average='micro')\n",
        "recallSscore = recall_score(y_test, y_pred, average='micro')\n",
        "f1Score = f1_score(y_test, y_pred, average='micro')\n",
        "\n",
        "print(\"Precision: {:.2f} %\".format(precisionScore))\n",
        "print(\"Recall: {:.2f} %\".format(recallSscore))\n",
        "print(\"f1_Score: {:.2f} %\".format(f1Score))"
      ],
      "metadata": {
        "id": "_2oOwiVB4yGO",
        "colab": {
          "base_uri": "https://localhost:8080/"
        },
        "outputId": "dbdc68c9-d9db-4665-d978-ef9beb4a64f0"
      },
      "execution_count": null,
      "outputs": [
        {
          "output_type": "stream",
          "name": "stdout",
          "text": [
            "Precision: 0.92 %\n",
            "Recall: 0.92 %\n",
            "f1_Score: 0.92 %\n"
          ]
        }
      ]
    },
    {
      "cell_type": "markdown",
      "source": [
        "# Question 6\n",
        "\n",
        "Consider the MNIST dataset, split it into training and test set in 50:50 ratio with `random_state = 42`. Fit a SVM model using pipeline with StandardScalar, SVM classifier `kernel='poly'` and `degree = 3`,  `decision_function_shape='ovr'`and `class_weight='balanced'`, `C=10`. Train the model on training data, and make predictions for test data. Generate the Classification report and choose the correct value for weighted avg of f1_score.\n",
        "\n",
        "(a) 0.96\n",
        "\n",
        "(b) 0.97\n",
        "\n",
        "(c) 0.98\n",
        "\n",
        "(d) 0.99\n",
        "\n",
        "**Option b**\n"
      ],
      "metadata": {
        "id": "mHb2-i7-4ZFE"
      }
    },
    {
      "cell_type": "code",
      "source": [
        "X_train, X_test, y_train, y_test = train_test_split(X, y, test_size = 0.5, random_state = 45)\n",
        "print(X_train.shape, X_test.shape, y_train.shape, y_test.shape)"
      ],
      "metadata": {
        "id": "t9mhExD_6qq1",
        "colab": {
          "base_uri": "https://localhost:8080/"
        },
        "outputId": "3704210f-8d12-4da3-da8c-b167de564be6"
      },
      "execution_count": null,
      "outputs": [
        {
          "output_type": "stream",
          "name": "stdout",
          "text": [
            "(35000, 784) (35000, 784) (35000,) (35000,)\n"
          ]
        }
      ]
    },
    {
      "cell_type": "code",
      "source": [
        "pipe_1 = Pipeline([('scaler', StandardScaler()),\n",
        "                         (\"classifier\", SVC(kernel='poly', degree = 3, decision_function_shape='ovr', class_weight='balanced', C=10))])\n",
        "pipe_1.fit(X_train,y_train)"
      ],
      "metadata": {
        "id": "MyA3xTsi6455",
        "colab": {
          "base_uri": "https://localhost:8080/"
        },
        "outputId": "bb33760b-2dd7-45e5-cabc-7caa18f605c3"
      },
      "execution_count": null,
      "outputs": [
        {
          "output_type": "execute_result",
          "data": {
            "text/plain": [
              "Pipeline(steps=[('scaler', StandardScaler()),\n",
              "                ('classifier',\n",
              "                 SVC(C=10, class_weight='balanced', kernel='poly'))])"
            ]
          },
          "metadata": {},
          "execution_count": 33
        }
      ]
    },
    {
      "cell_type": "code",
      "source": [
        "y_pred = pipe_1.predict(X_test)\n",
        "\n",
        "CR = classification_report(y_test, y_pred)\n",
        "print('Classification report \\n')\n",
        "print(CR)"
      ],
      "metadata": {
        "colab": {
          "base_uri": "https://localhost:8080/"
        },
        "id": "xZSPTkWANJqf",
        "outputId": "50656e44-60b0-47c2-8311-18b09c5299cc"
      },
      "execution_count": null,
      "outputs": [
        {
          "output_type": "stream",
          "name": "stdout",
          "text": [
            "Classification report \n",
            "\n",
            "              precision    recall  f1-score   support\n",
            "\n",
            "           0       0.99      0.99      0.99      3415\n",
            "           1       0.99      0.99      0.99      3854\n",
            "           2       0.97      0.97      0.97      3484\n",
            "           3       0.97      0.96      0.97      3550\n",
            "           4       0.97      0.98      0.97      3450\n",
            "           5       0.97      0.97      0.97      3133\n",
            "           6       0.99      0.98      0.98      3494\n",
            "           7       0.98      0.96      0.97      3692\n",
            "           8       0.95      0.97      0.96      3429\n",
            "           9       0.96      0.96      0.96      3499\n",
            "\n",
            "    accuracy                           0.97     35000\n",
            "   macro avg       0.97      0.97      0.97     35000\n",
            "weighted avg       0.97      0.97      0.97     35000\n",
            "\n"
          ]
        }
      ]
    },
    {
      "cell_type": "markdown",
      "source": [
        "#Question 7\n",
        "Write the function `compute_score(X_train, y_train, X_test, y_test)` to do the following on the `Iris` dataset-\n",
        "\n",
        "Write your code keeping in mind:\n",
        "- Split the Iris dataset into train and test set with 70:30 ratio \n",
        "- Import svm.SVC as 'model'\n",
        "- kernel as 'poly', regularization parameter as 10 and gamma as 'auto'\n",
        "- Train the 'model' and mark the computed 'score'\n",
        "\n",
        "\n",
        "(a) 2.0\n",
        "\n",
        "(b) 1.0\n",
        "\n",
        "(c) -1.0\n",
        "\n",
        "(d) -2.0\n",
        "\n",
        "**Option b**\n"
      ],
      "metadata": {
        "id": "rHsVfORxLcNl"
      }
    },
    {
      "cell_type": "code",
      "source": [
        "import numpy as np\n",
        "from sklearn import svm, datasets\n",
        "import json\n",
        "import random\n",
        "np.random.seed(42)\n",
        "iris = datasets.load_iris()\n",
        "from sklearn.model_selection import train_test_split"
      ],
      "metadata": {
        "id": "AGoKln9bjQJz"
      },
      "execution_count": null,
      "outputs": []
    },
    {
      "cell_type": "code",
      "source": [
        "X_train, X_test, y_train, y_test = train_test_split(iris.data, iris.target, test_size=0.3,random_state = 42)\n",
        "def COMPUTE_SCORE(X_train, y_train, X_test, y_test):\n",
        "  model1 = svm.SVC(kernel='poly',C=10,gamma='auto')\n",
        "  model1.fit(X_train,y_train)\n",
        "  score1=model1.score(X_test, y_test)\n",
        "  return score1\n",
        "score1 =COMPUTE_SCORE(X_train, y_train, X_test, y_test)\n",
        "print(score1) "
      ],
      "metadata": {
        "id": "rVnWBRpym8Vv",
        "colab": {
          "base_uri": "https://localhost:8080/"
        },
        "outputId": "7bdff1be-f053-4624-f6f1-239b31d44838"
      },
      "execution_count": null,
      "outputs": [
        {
          "output_type": "stream",
          "name": "stdout",
          "text": [
            "1.0\n"
          ]
        }
      ]
    },
    {
      "cell_type": "markdown",
      "source": [
        "#Question 8\n",
        "\n",
        "Write the function `compute_score(X_train, y_train, X_test, y_test)` to do the following on the `Iris` dataset-\n",
        "\n",
        "Write your code keeping in mind:\n",
        "- Split the Iris dataset into train and test set with 70:30 ratio \n",
        "- Import svm.SVC as 'model'\n",
        "- kernel as 'sigmoid', regularization parameter as 25 and gamma as 'auto'\n",
        "- Train the 'model' and mark the computed 'score'\n",
        "\n",
        "\n",
        "(a) 0.2666666666666666\n",
        "\n",
        "(b) 0.9555555555555556\n",
        "\n",
        "(c) 1.8122222222222222\n",
        "\n",
        "(d) 2.2111111111111111\n",
        "\n",
        "**Option a**\n"
      ],
      "metadata": {
        "id": "OdQVLAOqnnzy"
      }
    },
    {
      "cell_type": "code",
      "source": [
        "#Arat\n",
        "import numpy as np\n",
        "import pandas as pd\n",
        "from sklearn import svm, datasets\n",
        "iris = datasets.load_iris()\n",
        "from sklearn.model_selection import train_test_split"
      ],
      "metadata": {
        "id": "IjKT1bASn16P"
      },
      "execution_count": null,
      "outputs": []
    },
    {
      "cell_type": "code",
      "source": [
        "X_train, X_test, y_train, y_test = train_test_split(iris.data, iris.target, test_size=0.3)\n",
        "def COMPUTE_SCORE(X_train, y_train, X_test, y_test):\n",
        "  model1 = svm.SVC(kernel='sigmoid',C=25,gamma='auto')\n",
        "  model1.fit(X_train,y_train)\n",
        "  score1=model1.score(X_test, y_test)\n",
        "  return score1\n",
        "score1 =COMPUTE_SCORE(X_train, y_train, X_test, y_test)\n",
        "print(score1)"
      ],
      "metadata": {
        "id": "LKGzJMbytRQD",
        "colab": {
          "base_uri": "https://localhost:8080/"
        },
        "outputId": "1a35da1b-4794-4568-92f4-007308b9a019"
      },
      "execution_count": null,
      "outputs": [
        {
          "output_type": "stream",
          "name": "stdout",
          "text": [
            "0.28888888888888886\n"
          ]
        }
      ]
    },
    {
      "cell_type": "markdown",
      "source": [
        "#Question 9\n",
        "\n",
        "Import the `iris` dataset and drop the rows where `class=Iris-setosa`. Apply a pipeline containing a `MinMaxScaler()`function called`Scaler` and a `svm.svc()` called `classifier`. Split the `iris` dataset into 75:25 ratio with `random_state=0`. Mark the correct precision score.\n",
        "\n",
        "(a) 0.00\n",
        "\n",
        "(b) 1.22\n",
        "\n",
        "(C) 0.96\n",
        "\n",
        "(d) 2.33\n",
        "\n",
        "**Option c**\n",
        "\n"
      ],
      "metadata": {
        "id": "vG9Jnmc7gpCB"
      }
    },
    {
      "cell_type": "code",
      "source": [
        "# Import the libraries for performing classification\n",
        "from sklearn import svm\n",
        "from sklearn.svm import LinearSVC\n",
        "from sklearn.metrics import confusion_matrix, ConfusionMatrixDisplay\n",
        "from sklearn.metrics import classification_report\n",
        "from sklearn.metrics import plot_roc_curve\n",
        "from sklearn.metrics import roc_auc_score\n",
        "from sklearn.preprocessing import StandardScaler, MinMaxScaler\n",
        "from sklearn.pipeline import Pipeline\n",
        "from sklearn import metrics\n",
        "from sklearn.metrics import plot_confusion_matrix\n",
        "from sklearn.model_selection import cross_val_score"
      ],
      "metadata": {
        "id": "hvj6neBNh8H6"
      },
      "execution_count": null,
      "outputs": []
    },
    {
      "cell_type": "code",
      "source": [
        "#Define the column names\n",
        "col_name=[\"sepal_length_in_cm\", \"sepal_width_in_cm\",\"petal_length_in_cm\",\"petal_width_in_cm\", \"class\"]\n",
        "\n",
        "#Read the dataset\n",
        "df = pd.read_csv(\"https://archive.ics.uci.edu/ml/machine-learning-databases/iris/iris.data\", header = None, names= col_name)"
      ],
      "metadata": {
        "id": "L00QgPTZiTAT"
      },
      "execution_count": null,
      "outputs": []
    },
    {
      "cell_type": "code",
      "source": [
        "data = df\n",
        "# get names of indexes for which column 'class' has value 'Iris-setosa'\n",
        "index_names = data[ data[\"class\"] == 'Iris-setosa' ].index\n",
        "  \n",
        "# drop these row indexes\n",
        "# from dataFrame\n",
        "data.drop(index_names, inplace = True)\n",
        "  \n",
        "data"
      ],
      "metadata": {
        "colab": {
          "base_uri": "https://localhost:8080/",
          "height": 423
        },
        "id": "xVH1XiUNizPX",
        "outputId": "f0062d38-e188-413b-c47b-0a308f3ca229"
      },
      "execution_count": null,
      "outputs": [
        {
          "output_type": "execute_result",
          "data": {
            "text/html": [
              "\n",
              "  <div id=\"df-7e8d872a-9fdd-4f5b-95f6-d3994781918b\">\n",
              "    <div class=\"colab-df-container\">\n",
              "      <div>\n",
              "<style scoped>\n",
              "    .dataframe tbody tr th:only-of-type {\n",
              "        vertical-align: middle;\n",
              "    }\n",
              "\n",
              "    .dataframe tbody tr th {\n",
              "        vertical-align: top;\n",
              "    }\n",
              "\n",
              "    .dataframe thead th {\n",
              "        text-align: right;\n",
              "    }\n",
              "</style>\n",
              "<table border=\"1\" class=\"dataframe\">\n",
              "  <thead>\n",
              "    <tr style=\"text-align: right;\">\n",
              "      <th></th>\n",
              "      <th>sepal_length_in_cm</th>\n",
              "      <th>sepal_width_in_cm</th>\n",
              "      <th>petal_length_in_cm</th>\n",
              "      <th>petal_width_in_cm</th>\n",
              "      <th>class</th>\n",
              "    </tr>\n",
              "  </thead>\n",
              "  <tbody>\n",
              "    <tr>\n",
              "      <th>50</th>\n",
              "      <td>7.0</td>\n",
              "      <td>3.2</td>\n",
              "      <td>4.7</td>\n",
              "      <td>1.4</td>\n",
              "      <td>Iris-versicolor</td>\n",
              "    </tr>\n",
              "    <tr>\n",
              "      <th>51</th>\n",
              "      <td>6.4</td>\n",
              "      <td>3.2</td>\n",
              "      <td>4.5</td>\n",
              "      <td>1.5</td>\n",
              "      <td>Iris-versicolor</td>\n",
              "    </tr>\n",
              "    <tr>\n",
              "      <th>52</th>\n",
              "      <td>6.9</td>\n",
              "      <td>3.1</td>\n",
              "      <td>4.9</td>\n",
              "      <td>1.5</td>\n",
              "      <td>Iris-versicolor</td>\n",
              "    </tr>\n",
              "    <tr>\n",
              "      <th>53</th>\n",
              "      <td>5.5</td>\n",
              "      <td>2.3</td>\n",
              "      <td>4.0</td>\n",
              "      <td>1.3</td>\n",
              "      <td>Iris-versicolor</td>\n",
              "    </tr>\n",
              "    <tr>\n",
              "      <th>54</th>\n",
              "      <td>6.5</td>\n",
              "      <td>2.8</td>\n",
              "      <td>4.6</td>\n",
              "      <td>1.5</td>\n",
              "      <td>Iris-versicolor</td>\n",
              "    </tr>\n",
              "    <tr>\n",
              "      <th>...</th>\n",
              "      <td>...</td>\n",
              "      <td>...</td>\n",
              "      <td>...</td>\n",
              "      <td>...</td>\n",
              "      <td>...</td>\n",
              "    </tr>\n",
              "    <tr>\n",
              "      <th>145</th>\n",
              "      <td>6.7</td>\n",
              "      <td>3.0</td>\n",
              "      <td>5.2</td>\n",
              "      <td>2.3</td>\n",
              "      <td>Iris-virginica</td>\n",
              "    </tr>\n",
              "    <tr>\n",
              "      <th>146</th>\n",
              "      <td>6.3</td>\n",
              "      <td>2.5</td>\n",
              "      <td>5.0</td>\n",
              "      <td>1.9</td>\n",
              "      <td>Iris-virginica</td>\n",
              "    </tr>\n",
              "    <tr>\n",
              "      <th>147</th>\n",
              "      <td>6.5</td>\n",
              "      <td>3.0</td>\n",
              "      <td>5.2</td>\n",
              "      <td>2.0</td>\n",
              "      <td>Iris-virginica</td>\n",
              "    </tr>\n",
              "    <tr>\n",
              "      <th>148</th>\n",
              "      <td>6.2</td>\n",
              "      <td>3.4</td>\n",
              "      <td>5.4</td>\n",
              "      <td>2.3</td>\n",
              "      <td>Iris-virginica</td>\n",
              "    </tr>\n",
              "    <tr>\n",
              "      <th>149</th>\n",
              "      <td>5.9</td>\n",
              "      <td>3.0</td>\n",
              "      <td>5.1</td>\n",
              "      <td>1.8</td>\n",
              "      <td>Iris-virginica</td>\n",
              "    </tr>\n",
              "  </tbody>\n",
              "</table>\n",
              "<p>100 rows × 5 columns</p>\n",
              "</div>\n",
              "      <button class=\"colab-df-convert\" onclick=\"convertToInteractive('df-7e8d872a-9fdd-4f5b-95f6-d3994781918b')\"\n",
              "              title=\"Convert this dataframe to an interactive table.\"\n",
              "              style=\"display:none;\">\n",
              "        \n",
              "  <svg xmlns=\"http://www.w3.org/2000/svg\" height=\"24px\"viewBox=\"0 0 24 24\"\n",
              "       width=\"24px\">\n",
              "    <path d=\"M0 0h24v24H0V0z\" fill=\"none\"/>\n",
              "    <path d=\"M18.56 5.44l.94 2.06.94-2.06 2.06-.94-2.06-.94-.94-2.06-.94 2.06-2.06.94zm-11 1L8.5 8.5l.94-2.06 2.06-.94-2.06-.94L8.5 2.5l-.94 2.06-2.06.94zm10 10l.94 2.06.94-2.06 2.06-.94-2.06-.94-.94-2.06-.94 2.06-2.06.94z\"/><path d=\"M17.41 7.96l-1.37-1.37c-.4-.4-.92-.59-1.43-.59-.52 0-1.04.2-1.43.59L10.3 9.45l-7.72 7.72c-.78.78-.78 2.05 0 2.83L4 21.41c.39.39.9.59 1.41.59.51 0 1.02-.2 1.41-.59l7.78-7.78 2.81-2.81c.8-.78.8-2.07 0-2.86zM5.41 20L4 18.59l7.72-7.72 1.47 1.35L5.41 20z\"/>\n",
              "  </svg>\n",
              "      </button>\n",
              "      \n",
              "  <style>\n",
              "    .colab-df-container {\n",
              "      display:flex;\n",
              "      flex-wrap:wrap;\n",
              "      gap: 12px;\n",
              "    }\n",
              "\n",
              "    .colab-df-convert {\n",
              "      background-color: #E8F0FE;\n",
              "      border: none;\n",
              "      border-radius: 50%;\n",
              "      cursor: pointer;\n",
              "      display: none;\n",
              "      fill: #1967D2;\n",
              "      height: 32px;\n",
              "      padding: 0 0 0 0;\n",
              "      width: 32px;\n",
              "    }\n",
              "\n",
              "    .colab-df-convert:hover {\n",
              "      background-color: #E2EBFA;\n",
              "      box-shadow: 0px 1px 2px rgba(60, 64, 67, 0.3), 0px 1px 3px 1px rgba(60, 64, 67, 0.15);\n",
              "      fill: #174EA6;\n",
              "    }\n",
              "\n",
              "    [theme=dark] .colab-df-convert {\n",
              "      background-color: #3B4455;\n",
              "      fill: #D2E3FC;\n",
              "    }\n",
              "\n",
              "    [theme=dark] .colab-df-convert:hover {\n",
              "      background-color: #434B5C;\n",
              "      box-shadow: 0px 1px 3px 1px rgba(0, 0, 0, 0.15);\n",
              "      filter: drop-shadow(0px 1px 2px rgba(0, 0, 0, 0.3));\n",
              "      fill: #FFFFFF;\n",
              "    }\n",
              "  </style>\n",
              "\n",
              "      <script>\n",
              "        const buttonEl =\n",
              "          document.querySelector('#df-7e8d872a-9fdd-4f5b-95f6-d3994781918b button.colab-df-convert');\n",
              "        buttonEl.style.display =\n",
              "          google.colab.kernel.accessAllowed ? 'block' : 'none';\n",
              "\n",
              "        async function convertToInteractive(key) {\n",
              "          const element = document.querySelector('#df-7e8d872a-9fdd-4f5b-95f6-d3994781918b');\n",
              "          const dataTable =\n",
              "            await google.colab.kernel.invokeFunction('convertToInteractive',\n",
              "                                                     [key], {});\n",
              "          if (!dataTable) return;\n",
              "\n",
              "          const docLinkHtml = 'Like what you see? Visit the ' +\n",
              "            '<a target=\"_blank\" href=https://colab.research.google.com/notebooks/data_table.ipynb>data table notebook</a>'\n",
              "            + ' to learn more about interactive tables.';\n",
              "          element.innerHTML = '';\n",
              "          dataTable['output_type'] = 'display_data';\n",
              "          await google.colab.output.renderOutput(dataTable, element);\n",
              "          const docLink = document.createElement('div');\n",
              "          docLink.innerHTML = docLinkHtml;\n",
              "          element.appendChild(docLink);\n",
              "        }\n",
              "      </script>\n",
              "    </div>\n",
              "  </div>\n",
              "  "
            ],
            "text/plain": [
              "     sepal_length_in_cm  sepal_width_in_cm  ...  petal_width_in_cm            class\n",
              "50                  7.0                3.2  ...                1.4  Iris-versicolor\n",
              "51                  6.4                3.2  ...                1.5  Iris-versicolor\n",
              "52                  6.9                3.1  ...                1.5  Iris-versicolor\n",
              "53                  5.5                2.3  ...                1.3  Iris-versicolor\n",
              "54                  6.5                2.8  ...                1.5  Iris-versicolor\n",
              "..                  ...                ...  ...                ...              ...\n",
              "145                 6.7                3.0  ...                2.3   Iris-virginica\n",
              "146                 6.3                2.5  ...                1.9   Iris-virginica\n",
              "147                 6.5                3.0  ...                2.0   Iris-virginica\n",
              "148                 6.2                3.4  ...                2.3   Iris-virginica\n",
              "149                 5.9                3.0  ...                1.8   Iris-virginica\n",
              "\n",
              "[100 rows x 5 columns]"
            ]
          },
          "metadata": {},
          "execution_count": 41
        }
      ]
    },
    {
      "cell_type": "code",
      "source": [
        "# Separatre the input and output feature values\n",
        "\n",
        "X = data.iloc[:,:-1]\n",
        "y = data.iloc[:,-1].values\n",
        "\n",
        "from sklearn.model_selection import train_test_split\n",
        "X_train, X_test, y_train, y_test = train_test_split(X, y, test_size = 0.25, random_state = 0)\n",
        "\n",
        "print('Shape of training data',X_train.shape)\n",
        "print('Shape of training labels', y_train.shape)\n",
        "print('Shape of testing data', X_test.shape)\n",
        "print('Shape of testing labels',y_test.shape)"
      ],
      "metadata": {
        "colab": {
          "base_uri": "https://localhost:8080/"
        },
        "id": "VKnTHxJUjeh6",
        "outputId": "e8f5b3c4-eb59-4665-866e-35cf604ac4fa"
      },
      "execution_count": null,
      "outputs": [
        {
          "output_type": "stream",
          "name": "stdout",
          "text": [
            "Shape of training data (75, 4)\n",
            "Shape of training labels (75,)\n",
            "Shape of testing data (25, 4)\n",
            "Shape of testing labels (25,)\n"
          ]
        }
      ]
    },
    {
      "cell_type": "code",
      "source": [
        "X=np.array(X_train)\n",
        "y=np.array(y_train)\n",
        "# Let us consider sepal length and sepal width\n",
        "X=X[:,(0,1)]\n",
        "X.shape"
      ],
      "metadata": {
        "colab": {
          "base_uri": "https://localhost:8080/"
        },
        "id": "rFyrOtm7j9Yr",
        "outputId": "7b1f7d55-d8dd-4a5e-989a-82dff0c89c46"
      },
      "execution_count": null,
      "outputs": [
        {
          "output_type": "execute_result",
          "data": {
            "text/plain": [
              "(75, 2)"
            ]
          },
          "metadata": {},
          "execution_count": 43
        }
      ]
    },
    {
      "cell_type": "code",
      "source": [
        "# Create a pipeline\n",
        "\n",
        "pipe_2 = Pipeline([('scaler', MinMaxScaler()),\n",
        "                         (\"classifier\", svm.SVC(kernel='linear', decision_function_shape='ovr', C=1, class_weight=None))])\n",
        "\n",
        "# Fit the estimator , pipeline\n",
        "\n",
        "pipe_2.fit(X_train,y_train)\n",
        "\n",
        "# Get the predictions\n",
        "\n",
        "y_pred = pipe_2.predict(X_test)"
      ],
      "metadata": {
        "id": "h9AcKWEokJuE"
      },
      "execution_count": null,
      "outputs": []
    },
    {
      "cell_type": "code",
      "source": [
        "from sklearn.metrics import precision_score, recall_score, f1_score\n",
        "\n",
        "precisionScore = precision_score(y_test, y_pred, average='micro')\n",
        "recallSscore = recall_score(y_test, y_pred, average='micro')\n",
        "f1Score = f1_score(y_test, y_pred, average='micro')\n",
        "\n",
        "print(\"Precision: {:.2f} \".format(precisionScore))\n",
        "print(\"Recall: {:.2f} \".format(recallSscore))\n",
        "print(\"f1_Score: {:.2f} \".format(f1Score))"
      ],
      "metadata": {
        "colab": {
          "base_uri": "https://localhost:8080/"
        },
        "id": "aCQPcBpAkS2s",
        "outputId": "0fd2ea7d-2bcc-4c8e-f2ee-36177c60f79a"
      },
      "execution_count": null,
      "outputs": [
        {
          "output_type": "stream",
          "name": "stdout",
          "text": [
            "Precision: 0.96 \n",
            "Recall: 0.96 \n",
            "f1_Score: 0.96 \n"
          ]
        }
      ]
    }
  ]
}